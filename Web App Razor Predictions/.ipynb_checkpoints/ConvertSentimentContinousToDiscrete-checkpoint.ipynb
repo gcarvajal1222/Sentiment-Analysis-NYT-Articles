{
 "cells": [
  {
   "cell_type": "code",
   "execution_count": 1,
   "metadata": {},
   "outputs": [],
   "source": [
    "import pandas as pd\n"
   ]
  },
  {
   "cell_type": "code",
   "execution_count": 21,
   "metadata": {},
   "outputs": [],
   "source": [
    "\n",
    "df_sentimentData = pd.read_excel(\"SentimentDataAllArticles.xlsx\")"
   ]
  },
  {
   "cell_type": "code",
   "execution_count": 22,
   "metadata": {},
   "outputs": [],
   "source": [
    "#df_sentimentData=pd.cut(x=pd.to_numeric(df_sentimentData['compound_scores_vader']), bins=[-1,-0.05,0.05, 1])\n",
    "\n",
    "df_sentimentData[\"discrete_sentiment\"] = pd.cut(x=df_sentimentData['compound_scores_vader'], bins=[-1,-0.05,0.05, 1], labels=['negative', 'neutral', 'positive'])"
   ]
  },
  {
   "cell_type": "code",
   "execution_count": 23,
   "metadata": {},
   "outputs": [
    {
     "data": {
      "text/html": [
       "<div>\n",
       "<style scoped>\n",
       "    .dataframe tbody tr th:only-of-type {\n",
       "        vertical-align: middle;\n",
       "    }\n",
       "\n",
       "    .dataframe tbody tr th {\n",
       "        vertical-align: top;\n",
       "    }\n",
       "\n",
       "    .dataframe thead th {\n",
       "        text-align: right;\n",
       "    }\n",
       "</style>\n",
       "<table border=\"1\" class=\"dataframe\">\n",
       "  <thead>\n",
       "    <tr style=\"text-align: right;\">\n",
       "      <th></th>\n",
       "      <th>cleanText</th>\n",
       "      <th>compound_scores_vader</th>\n",
       "      <th>discrete_sentiment</th>\n",
       "    </tr>\n",
       "  </thead>\n",
       "  <tbody>\n",
       "    <tr>\n",
       "      <th>0</th>\n",
       "      <td>federal officials said today government would ...</td>\n",
       "      <td>-0.7003</td>\n",
       "      <td>negative</td>\n",
       "    </tr>\n",
       "    <tr>\n",
       "      <th>1</th>\n",
       "      <td>michael wright caroline rand herron last week ...</td>\n",
       "      <td>-0.4767</td>\n",
       "      <td>negative</td>\n",
       "    </tr>\n",
       "    <tr>\n",
       "      <th>2</th>\n",
       "      <td>descents rising ascents declining record level...</td>\n",
       "      <td>-0.4767</td>\n",
       "      <td>negative</td>\n",
       "    </tr>\n",
       "    <tr>\n",
       "      <th>3</th>\n",
       "      <td>bruce feirstein writer living new york caprico...</td>\n",
       "      <td>0.8031</td>\n",
       "      <td>positive</td>\n",
       "    </tr>\n",
       "    <tr>\n",
       "      <th>4</th>\n",
       "      <td>general accounting office says appears growing...</td>\n",
       "      <td>-0.8845</td>\n",
       "      <td>negative</td>\n",
       "    </tr>\n",
       "    <tr>\n",
       "      <th>...</th>\n",
       "      <td>...</td>\n",
       "      <td>...</td>\n",
       "      <td>...</td>\n",
       "    </tr>\n",
       "    <tr>\n",
       "      <th>21452</th>\n",
       "      <td>albany gov andrew cuomos feud president trump...</td>\n",
       "      <td>-0.3400</td>\n",
       "      <td>negative</td>\n",
       "    </tr>\n",
       "    <tr>\n",
       "      <th>21453</th>\n",
       "      <td>rome christians around world celebrated christ...</td>\n",
       "      <td>-0.5267</td>\n",
       "      <td>negative</td>\n",
       "    </tr>\n",
       "    <tr>\n",
       "      <th>21454</th>\n",
       "      <td>pov midnight traveler pbs check local listings...</td>\n",
       "      <td>-0.8074</td>\n",
       "      <td>negative</td>\n",
       "    </tr>\n",
       "    <tr>\n",
       "      <th>21455</th>\n",
       "      <td>kenneth cuccinelli top immigration official tr...</td>\n",
       "      <td>0.3182</td>\n",
       "      <td>positive</td>\n",
       "    </tr>\n",
       "    <tr>\n",
       "      <th>21456</th>\n",
       "      <td>population growth united states crept along sl...</td>\n",
       "      <td>0.3818</td>\n",
       "      <td>positive</td>\n",
       "    </tr>\n",
       "  </tbody>\n",
       "</table>\n",
       "<p>21457 rows × 3 columns</p>\n",
       "</div>"
      ],
      "text/plain": [
       "                                               cleanText  \\\n",
       "0      federal officials said today government would ...   \n",
       "1      michael wright caroline rand herron last week ...   \n",
       "2      descents rising ascents declining record level...   \n",
       "3      bruce feirstein writer living new york caprico...   \n",
       "4      general accounting office says appears growing...   \n",
       "...                                                  ...   \n",
       "21452  albany gov andrew cuomos feud president trump...   \n",
       "21453  rome christians around world celebrated christ...   \n",
       "21454  pov midnight traveler pbs check local listings...   \n",
       "21455  kenneth cuccinelli top immigration official tr...   \n",
       "21456  population growth united states crept along sl...   \n",
       "\n",
       "       compound_scores_vader discrete_sentiment  \n",
       "0                    -0.7003           negative  \n",
       "1                    -0.4767           negative  \n",
       "2                    -0.4767           negative  \n",
       "3                     0.8031           positive  \n",
       "4                    -0.8845           negative  \n",
       "...                      ...                ...  \n",
       "21452                -0.3400           negative  \n",
       "21453                -0.5267           negative  \n",
       "21454                -0.8074           negative  \n",
       "21455                 0.3182           positive  \n",
       "21456                 0.3818           positive  \n",
       "\n",
       "[21457 rows x 3 columns]"
      ]
     },
     "execution_count": 23,
     "metadata": {},
     "output_type": "execute_result"
    }
   ],
   "source": [
    "df_sentimentData\n"
   ]
  },
  {
   "cell_type": "code",
   "execution_count": 24,
   "metadata": {},
   "outputs": [],
   "source": [
    "df_sentimentData.to_csv(r'MLSentimentData.csv')"
   ]
  },
  {
   "cell_type": "code",
   "execution_count": null,
   "metadata": {},
   "outputs": [],
   "source": []
  }
 ],
 "metadata": {
  "kernelspec": {
   "display_name": "Python 3",
   "language": "python",
   "name": "python3"
  },
  "language_info": {
   "codemirror_mode": {
    "name": "ipython",
    "version": 3
   },
   "file_extension": ".py",
   "mimetype": "text/x-python",
   "name": "python",
   "nbconvert_exporter": "python",
   "pygments_lexer": "ipython3",
   "version": "3.7.6"
  }
 },
 "nbformat": 4,
 "nbformat_minor": 4
}
