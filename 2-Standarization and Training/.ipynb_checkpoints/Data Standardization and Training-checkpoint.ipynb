{
 "cells": [
  {
   "cell_type": "markdown",
   "metadata": {},
   "source": [
    "# Import nessesary libraries"
   ]
  },
  {
   "cell_type": "code",
   "execution_count": 1,
   "metadata": {},
   "outputs": [
    {
     "name": "stderr",
     "output_type": "stream",
     "text": [
      "[nltk_data] Downloading package punkt to\n",
      "[nltk_data]     C:\\Users\\pdgac\\AppData\\Roaming\\nltk_data...\n",
      "[nltk_data]   Package punkt is already up-to-date!\n",
      "[nltk_data] Downloading package averaged_perceptron_tagger to\n",
      "[nltk_data]     C:\\Users\\pdgac\\AppData\\Roaming\\nltk_data...\n",
      "[nltk_data]   Package averaged_perceptron_tagger is already up-to-\n",
      "[nltk_data]       date!\n",
      "[nltk_data] Downloading package vader_lexicon to\n",
      "[nltk_data]     C:\\Users\\pdgac\\AppData\\Roaming\\nltk_data...\n",
      "[nltk_data]   Package vader_lexicon is already up-to-date!\n"
     ]
    },
    {
     "data": {
      "text/plain": [
       "True"
      ]
     },
     "execution_count": 1,
     "metadata": {},
     "output_type": "execute_result"
    }
   ],
   "source": [
    "import pandas as pd\n",
    "from nltk.tokenize import sent_tokenize, word_tokenize \n",
    "import warnings \n",
    "import nltk\n",
    "#from gensim.models import Word2Vec \n",
    "#from gensim.models.wrappers import FastText \n",
    "\n",
    "#from gensim.models import FastText\n",
    "\n",
    "\n",
    "\n",
    "from IPython.display import clear_output, display\n",
    "\n",
    "from nltk.tokenize import sent_tokenize, word_tokenize \n",
    "import warnings \n",
    "import nltk \n",
    "import pandas as pd\n",
    "from pandas import *\n",
    "import matplotlib.pyplot as plt\n",
    "import nltk\n",
    "from nltk.tokenize import RegexpTokenizer\n",
    "from nltk.stem import WordNetLemmatizer,PorterStemmer\n",
    "from nltk.corpus import stopwords\n",
    "import re\n",
    "lemmatizer = WordNetLemmatizer()\n",
    "stemmer = PorterStemmer() \n",
    "import re\n",
    "from sklearn.feature_extraction import text\n",
    "from builtins import input\n",
    "from statistics import mean\n",
    "from nltk import  pos_tag_sents\n",
    "\n",
    "\n",
    "from statistics import mode, StatisticsError\n",
    "\n",
    "import functools\n",
    "\n",
    "\n",
    "import re\n",
    "from sklearn.feature_extraction import text\n",
    "global cases\n",
    "\n",
    "from pandas import ExcelWriter\n",
    "import xlsxwriter\n",
    "\n",
    "import xlwt\n",
    "from xlwt.Workbook import *\n",
    "\n",
    "\n",
    "from nltk.corpus import wordnet\n",
    "\n",
    "from statistics import *\n",
    "\n",
    "from sklearn.feature_extraction.text import CountVectorizer\n",
    "from sklearn.feature_extraction.text import TfidfTransformer\n",
    "import numpy as np\n",
    "import pandas as pd\n",
    "import re\n",
    "from nltk import pos_tag\n",
    "from nltk.tokenize.treebank import TreebankWordDetokenizer\n",
    "import seaborn as sns\n",
    "\n",
    "nltk.download('punkt')\n",
    "nltk.download('averaged_perceptron_tagger')\n",
    "nltk.download('vader_lexicon')"
   ]
  },
  {
   "cell_type": "markdown",
   "metadata": {},
   "source": [
    "# Read the raw data\n",
    "\n",
    "read raw data from NYT API extraction "
   ]
  },
  {
   "cell_type": "code",
   "execution_count": 2,
   "metadata": {},
   "outputs": [],
   "source": [
    "df = pd.read_csv('Sentiment-Analysis-NYT-Articlesdir\\\\allNYTSearch1980to2020.txt', sep = \"\\t\", encoding = 'iso-8859-1')"
   ]
  },
  {
   "cell_type": "code",
   "execution_count": 3,
   "metadata": {},
   "outputs": [],
   "source": [
    "df.drop_duplicates(subset =\"response.docs._id\", \n",
    "                     keep = False, inplace = True) "
   ]
  },
  {
   "cell_type": "markdown",
   "metadata": {},
   "source": [
    "# Data Standarization\n",
    "\n",
    "1. remove noise and replace it with whitespace or no space\n",
    "2. remove numbers\n",
    "3. Remove stopwords\n",
    "4. tokenize words and append it wo a new column in the dataframe\n"
   ]
  },
  {
   "cell_type": "code",
   "execution_count": 4,
   "metadata": {},
   "outputs": [],
   "source": [
    "def preprocess_regex(row):\n",
    "    row=str(row)\n",
    "    #row = row.lower() we don't lower the words in the first round of training\n",
    "    row=row.replace('-',\" \") \n",
    "    row=row.replace(',',\" \")\n",
    "    row=row.replace('.',\" \")\n",
    "    row=row.replace('+',\" \")\n",
    "    row=row.replace('\"',\" \")\n",
    "    row=row.replace(\"''\",\"\")\n",
    "    row=row.replace(\"'\",\"\")\n",
    "    row=row.replace(\":\",\"\")\n",
    "    row=row.replace(\"_\",\"\")\n",
    "    row = row.replace(\"/\",\"\")\n",
    "    cleanr = re.compile('<.*?>')  #this would replace 'random' in 'random words' but not in 'pseudorandom words'\n",
    "    cleantext = re.sub(cleanr, '', row)\n",
    "    line = re.sub('[!@#$]', '', cleantext)\n",
    "    rem_num = re.sub('[0-9]+', '', line)\n",
    "    #tokenizer = RegexpTokenizer(r'\\w+')  #this yields lower counts of words\n",
    "    tokens = nltk.tokenize.word_tokenize(rem_num)  \n",
    "    filtered_words = [w for w in tokens if len(w) > 2 if not w in stopwords.words('english')] #if it appears more than two times get rid off the stopwords, change this\n",
    "    return \" \".join(filtered_words)"
   ]
  },
  {
   "cell_type": "code",
   "execution_count": 5,
   "metadata": {},
   "outputs": [],
   "source": [
    "df['cleanText']=df['response.docs.lead_paragraph'].map(lambda s:preprocess_regex(s)) \n",
    "\n",
    "Tokenized_lead_paragraphs = df.apply(lambda row: nltk.word_tokenize(row['cleanText']), axis=1)"
   ]
  },
  {
   "cell_type": "markdown",
   "metadata": {},
   "source": [
    "# Training the data with VADER\n",
    "\n",
    "1. divide the positive, neutral and negative articles trained by VADER using a dicctionary based approach"
   ]
  },
  {
   "cell_type": "code",
   "execution_count": 11,
   "metadata": {},
   "outputs": [],
   "source": [
    "from nltk.sentiment.vader import SentimentIntensityAnalyzer\n",
    "SIA = SentimentIntensityAnalyzer()\n",
    "\n",
    "def sentiment_analyzer_scores(sentence):\n",
    "    scores = SIA.polarity_scores(sentence)\n",
    "    return scores"
   ]
  },
  {
   "cell_type": "code",
   "execution_count": 12,
   "metadata": {},
   "outputs": [],
   "source": [
    "clean_text=list(df['cleanText'])\n",
    "\n",
    "sentiment_scores = []\n",
    "for i in range(len(clean_text)):\n",
    "    sentiment_scores.append(sentiment_analyzer_scores(clean_text[i]))"
   ]
  },
  {
   "cell_type": "code",
   "execution_count": 13,
   "metadata": {},
   "outputs": [],
   "source": [
    "df['sentiment_scores_vader'] = sentiment_scores"
   ]
  },
  {
   "cell_type": "code",
   "execution_count": 14,
   "metadata": {},
   "outputs": [],
   "source": [
    "compound_scores = []\n",
    "for i in range(len(sentiment_scores)):\n",
    "    compound_scores.append(sentiment_scores[i]['compound'])\n",
    "    \n",
    "neg_scores = []\n",
    "for i in range(len(sentiment_scores)):\n",
    "    neg_scores.append(sentiment_scores[i]['neg'])\n",
    "\n",
    "pos_scores = []\n",
    "for i in range(len(sentiment_scores)):\n",
    "    pos_scores.append(sentiment_scores[i]['pos'])"
   ]
  },
  {
   "cell_type": "code",
   "execution_count": 15,
   "metadata": {},
   "outputs": [],
   "source": [
    "df['compound_scores_vader'] = compound_scores\n",
    "\n",
    "df['negative_scores_vader'] = neg_scores\n",
    "\n",
    "df['positive_scores_vader'] = pos_scores"
   ]
  },
  {
   "cell_type": "code",
   "execution_count": 16,
   "metadata": {},
   "outputs": [
    {
     "data": {
      "text/plain": [
       "array([[<matplotlib.axes._subplots.AxesSubplot object at 0x00000226EC205108>]],\n",
       "      dtype=object)"
      ]
     },
     "execution_count": 16,
     "metadata": {},
     "output_type": "execute_result"
    },
    {
     "data": {
      "image/png": "[encoded data removed]",
      "text/plain": [
       "<Figure size 432x288 with 1 Axes>"
      ]
     },
     "metadata": {
      "needs_background": "light"
     },
     "output_type": "display_data"
    }
   ],
   "source": [
    " df.hist(column = 'compound_scores_vader')"
   ]
  },
  {
   "cell_type": "markdown",
   "metadata": {},
   "source": [
    "# How are indiviual words trained?\n",
    "\n",
    "1. we use the threshold defined by VADER documentation of 0.05 to specify the bounds of negative, neutral and positive words"
   ]
  },
  {
   "cell_type": "code",
   "execution_count": 17,
   "metadata": {},
   "outputs": [],
   "source": [
    "\n",
    "def get_word_sentiment(text):\n",
    "    neg_word_list = []\n",
    "    pos_word_list = []\n",
    "    neu_word_list = []\n",
    "    \n",
    "    tokenized_text = nltk.word_tokenize(text)\n",
    "    \n",
    "    for word in tokenized_text:\n",
    "        if (SIA.polarity_scores(word)['compound']) >= 0.05:\n",
    "            pos_word_list.append(word)\n",
    "        elif (SIA.polarity_scores(word)['compound']) <= -0.05:\n",
    "            neg_word_list.append(word)\n",
    "        else:\n",
    "            neu_word_list.append(word)\n",
    "    return {'Positive':pos_word_list,'Neutral': neu_word_list,'Negative':neg_word_list}\n",
    "    #return pos_word_list,neu_word_list,neg_word_list\n"
   ]
  },
  {
   "cell_type": "code",
   "execution_count": 18,
   "metadata": {},
   "outputs": [],
   "source": [
    "lists_sentiment_P_N_N = []\n",
    "for i in range(len(df)):\n",
    "    lists_sentiment_P_N_N.append(get_word_sentiment(clean_text[i]))"
   ]
  },
  {
   "cell_type": "markdown",
   "metadata": {},
   "source": [
    "Neutral words extraction by lexicion vader"
   ]
  },
  {
   "cell_type": "code",
   "execution_count": null,
   "metadata": {},
   "outputs": [],
   "source": [
    "List_of_neutral_words_in_corpus = []\n",
    "for d in lists_sentiment_P_N_N:\n",
    "    List_of_neutral_words_in_corpus.append(d['Neutral'])\n",
    "    \n",
    "List_of_neutral_words_in_corpus\n",
    "\n",
    "flat_list_neutral_words = [item for sublist in List_of_neutral_words_in_corpus for item in sublist]\n",
    "\n",
    "\n",
    "word_dist = nltk.FreqDist(flat_list_neutral_words)\n",
    "top_N = len(word_dist)\n",
    "\n",
    "    #creating a dataframe of these words plus id so later we can merge.\n",
    "df_neutral_words= pd.DataFrame(word_dist.most_common(top_N),  #C_UW_F = category unique word final\n",
    "                    columns=['Word', 'Frequency'])\n",
    "\n"
   ]
  },
  {
   "cell_type": "markdown",
   "metadata": {},
   "source": [
    "Positve words extraction by lexicion vader"
   ]
  },
  {
   "cell_type": "code",
   "execution_count": 20,
   "metadata": {},
   "outputs": [],
   "source": [
    "\n",
    "List_of_positive_words_in_corpus = []\n",
    "for y in lists_sentiment_P_N_N:\n",
    "    List_of_positive_words_in_corpus.append(y['Positive'])\n",
    "\n",
    "flat_list_positive_words = [item for sublist in List_of_positive_words_in_corpus for item in sublist]\n",
    "\n",
    "\n",
    "word_dist = nltk.FreqDist(flat_list_positive_words)\n",
    "top_N = len(word_dist)\n",
    "\n",
    "    #creating a dataframe of these words plus id so later we can merge.\n",
    "df_positive_words= pd.DataFrame(word_dist.most_common(top_N),  #C_UW_F = category unique word final\n",
    "                    columns=['Word', 'Frequency'])"
   ]
  },
  {
   "cell_type": "markdown",
   "metadata": {},
   "source": [
    "negative words extraction by lexicon vader"
   ]
  },
  {
   "cell_type": "code",
   "execution_count": 21,
   "metadata": {},
   "outputs": [],
   "source": [
    "List_of_negative_words_in_corpus = []\n",
    "for y in lists_sentiment_P_N_N:\n",
    "    List_of_negative_words_in_corpus.append(y['Negative'])\n",
    "\n",
    "flat_list_negative_words = [item for sublist in List_of_negative_words_in_corpus for item in sublist]\n",
    "\n",
    "\n",
    "word_dist = nltk.FreqDist(flat_list_negative_words)\n",
    "top_N = len(word_dist)\n",
    "\n",
    "    #creating a dataframe of these words plus id so later we can merge.\n",
    "df_negative_words= pd.DataFrame(word_dist.most_common(top_N),  #C_UW_F = category unique word final\n",
    "                    columns=['Word', 'Frequency'])"
   ]
  },
  {
   "cell_type": "markdown",
   "metadata": {},
   "source": [
    "Adding a POS tag to the words in Neutral/ postive and negative words in vader"
   ]
  },
  {
   "cell_type": "code",
   "execution_count": 23,
   "metadata": {},
   "outputs": [],
   "source": [
    "s_positive = df_positive_words['Word']\n",
    "tagged_sent_pos = pos_tag(s_positive)  # or pos_tag(s.tolist())\n",
    "tags_pos =  [ e[1] for e in tagged_sent_pos ]\n",
    "df_positive_words['TAGS'] = tags_pos\n",
    "\n",
    "s_neutral = df_neutral_words['Word']\n",
    "tagged_sent_neutral = pos_tag(s_neutral)  # or pos_tag(s.tolist())\n",
    "tags_neutral =  [ e[1] for e in tagged_sent_neutral ]\n",
    "df_neutral_words['TAGS'] = tags_neutral\n",
    "\n",
    "s_negative = df_negative_words['Word']\n",
    "tagged_sent_negative = pos_tag(s_negative)  # or pos_tag(s.tolist())\n",
    "tags_neg =  [ e[1] for e in tagged_sent_negative ]\n",
    "df_negative_words['TAGS'] = tags_neg"
   ]
  },
  {
   "cell_type": "markdown",
   "metadata": {},
   "source": [
    "# Identify words with uppercase for possible Pronouns and problematic words"
   ]
  },
  {
   "cell_type": "code",
   "execution_count": 24,
   "metadata": {},
   "outputs": [],
   "source": [
    "def at_least_one_char_upper(_list_of_words):\n",
    "    at_least_one_upper = []\n",
    "    for i in range(len(_list_of_words)):\n",
    "        at_least_one_upper.append(any(l.isupper() for l in _list_of_words[i]))\n",
    "    return at_least_one_upper"
   ]
  },
  {
   "cell_type": "code",
   "execution_count": 25,
   "metadata": {},
   "outputs": [],
   "source": [
    "df_neutral_words['Is a character in word capitalized?'] = at_least_one_char_upper(s_neutral)\n",
    "df_positive_words['Is a character in word capitalized?'] = at_least_one_char_upper(s_positive)\n",
    "df_negative_words['Is a character in word capitalized?'] = at_least_one_char_upper(s_negative)"
   ]
  },
  {
   "cell_type": "code",
   "execution_count": 26,
   "metadata": {},
   "outputs": [
    {
     "data": {
      "text/html": [
       "<div>\n",
       "<style scoped>\n",
       "    .dataframe tbody tr th:only-of-type {\n",
       "        vertical-align: middle;\n",
       "    }\n",
       "\n",
       "    .dataframe tbody tr th {\n",
       "        vertical-align: top;\n",
       "    }\n",
       "\n",
       "    .dataframe thead th {\n",
       "        text-align: right;\n",
       "    }\n",
       "</style>\n",
       "<table border=\"1\" class=\"dataframe\">\n",
       "  <thead>\n",
       "    <tr style=\"text-align: right;\">\n",
       "      <th></th>\n",
       "      <th>status</th>\n",
       "      <th>copyright</th>\n",
       "      <th>response.docs.abstract</th>\n",
       "      <th>response.docs.web_url</th>\n",
       "      <th>response.docs.snippet</th>\n",
       "      <th>response.docs.lead_paragraph</th>\n",
       "      <th>response.docs.print_section</th>\n",
       "      <th>response.docs.print_page</th>\n",
       "      <th>response.docs.source</th>\n",
       "      <th>response.docs.pub_date</th>\n",
       "      <th>...</th>\n",
       "      <th>response.docs.byline.organization</th>\n",
       "      <th>response.meta.hits</th>\n",
       "      <th>response.meta.offset</th>\n",
       "      <th>response.meta.time</th>\n",
       "      <th>response.docs.subsection_name</th>\n",
       "      <th>cleanText</th>\n",
       "      <th>sentiment_scores_vader</th>\n",
       "      <th>compound_scores_vader</th>\n",
       "      <th>negative_scores_vader</th>\n",
       "      <th>positive_scores_vader</th>\n",
       "    </tr>\n",
       "  </thead>\n",
       "  <tbody>\n",
       "    <tr>\n",
       "      <th>1</th>\n",
       "      <td>OK</td>\n",
       "      <td>Copyright (c) 2020 The New York Times Company....</td>\n",
       "      <td>Federal officials said today that the Govern...</td>\n",
       "      <td>https://www.nytimes.com/1981/01/03/us/us-may-a...</td>\n",
       "      <td>NaN</td>\n",
       "      <td>Federal officials said today that the Governme...</td>\n",
       "      <td>1</td>\n",
       "      <td>10</td>\n",
       "      <td>The New York Times</td>\n",
       "      <td>1981-01-03T05:00:00+0000</td>\n",
       "      <td>...</td>\n",
       "      <td>NaN</td>\n",
       "      <td>986</td>\n",
       "      <td>0.0</td>\n",
       "      <td>244.0</td>\n",
       "      <td>NaN</td>\n",
       "      <td>Federal officials said today Government would ...</td>\n",
       "      <td>{'neg': 0.177, 'neu': 0.823, 'pos': 0.0, 'comp...</td>\n",
       "      <td>-0.7003</td>\n",
       "      <td>0.177</td>\n",
       "      <td>0.000</td>\n",
       "    </tr>\n",
       "    <tr>\n",
       "      <th>2</th>\n",
       "      <td>OK</td>\n",
       "      <td>Copyright (c) 2020 The New York Times Company....</td>\n",
       "      <td>By Michael Wright and Caroline Rand Herron U...</td>\n",
       "      <td>https://www.nytimes.com/1981/01/04/weekinrevie...</td>\n",
       "      <td>NaN</td>\n",
       "      <td>By Michael Wright and Caroline Rand Herron Unt...</td>\n",
       "      <td>4</td>\n",
       "      <td>2</td>\n",
       "      <td>The New York Times</td>\n",
       "      <td>1981-01-04T05:00:00+0000</td>\n",
       "      <td>...</td>\n",
       "      <td>NaN</td>\n",
       "      <td>986</td>\n",
       "      <td>0.0</td>\n",
       "      <td>244.0</td>\n",
       "      <td>NaN</td>\n",
       "      <td>Michael Wright Caroline Rand Herron Until last...</td>\n",
       "      <td>{'neg': 0.089, 'neu': 0.831, 'pos': 0.08, 'com...</td>\n",
       "      <td>-0.0772</td>\n",
       "      <td>0.089</td>\n",
       "      <td>0.080</td>\n",
       "    </tr>\n",
       "    <tr>\n",
       "      <th>3</th>\n",
       "      <td>OK</td>\n",
       "      <td>Copyright (c) 2020 The New York Times Company....</td>\n",
       "      <td>With ''descents'' rising and ''ascents'' dec...</td>\n",
       "      <td>https://www.nytimes.com/1981/01/04/weekinrevie...</td>\n",
       "      <td>NaN</td>\n",
       "      <td>With ''descents'' rising and ''ascents'' decli...</td>\n",
       "      <td>4</td>\n",
       "      <td>4</td>\n",
       "      <td>The New York Times</td>\n",
       "      <td>1981-01-04T05:00:00+0000</td>\n",
       "      <td>...</td>\n",
       "      <td>NaN</td>\n",
       "      <td>986</td>\n",
       "      <td>0.0</td>\n",
       "      <td>244.0</td>\n",
       "      <td>NaN</td>\n",
       "      <td>With descents rising ascents declining record ...</td>\n",
       "      <td>{'neg': 0.141, 'neu': 0.797, 'pos': 0.062, 'co...</td>\n",
       "      <td>-0.4767</td>\n",
       "      <td>0.141</td>\n",
       "      <td>0.062</td>\n",
       "    </tr>\n",
       "    <tr>\n",
       "      <th>4</th>\n",
       "      <td>OK</td>\n",
       "      <td>Copyright (c) 2020 The New York Times Company....</td>\n",
       "      <td>Bruce Feirstein is a writer living in New Yo...</td>\n",
       "      <td>https://www.nytimes.com/1981/01/04/magazine/th...</td>\n",
       "      <td>NaN</td>\n",
       "      <td>Bruce Feirstein is a writer living in New York...</td>\n",
       "      <td>6</td>\n",
       "      <td>26</td>\n",
       "      <td>The New York Times</td>\n",
       "      <td>1981-01-04T05:00:00+0000</td>\n",
       "      <td>...</td>\n",
       "      <td>NaN</td>\n",
       "      <td>986</td>\n",
       "      <td>0.0</td>\n",
       "      <td>244.0</td>\n",
       "      <td>NaN</td>\n",
       "      <td>Bruce Feirstein writer living New York CAPRICO...</td>\n",
       "      <td>{'neg': 0.072, 'neu': 0.771, 'pos': 0.157, 'co...</td>\n",
       "      <td>0.8031</td>\n",
       "      <td>0.072</td>\n",
       "      <td>0.157</td>\n",
       "    </tr>\n",
       "    <tr>\n",
       "      <th>5</th>\n",
       "      <td>OK</td>\n",
       "      <td>Copyright (c) 2020 The New York Times Company....</td>\n",
       "      <td>The General Accounting Office says there app...</td>\n",
       "      <td>https://www.nytimes.com/1981/01/04/us/bogus-so...</td>\n",
       "      <td>NaN</td>\n",
       "      <td>The General Accounting Office says there appea...</td>\n",
       "      <td>1</td>\n",
       "      <td>20</td>\n",
       "      <td>The New York Times</td>\n",
       "      <td>1981-01-04T05:00:00+0000</td>\n",
       "      <td>...</td>\n",
       "      <td>NaN</td>\n",
       "      <td>986</td>\n",
       "      <td>0.0</td>\n",
       "      <td>244.0</td>\n",
       "      <td>NaN</td>\n",
       "      <td>The General Accounting Office says appears gro...</td>\n",
       "      <td>{'neg': 0.224, 'neu': 0.638, 'pos': 0.138, 'co...</td>\n",
       "      <td>-0.7334</td>\n",
       "      <td>0.224</td>\n",
       "      <td>0.138</td>\n",
       "    </tr>\n",
       "    <tr>\n",
       "      <th>...</th>\n",
       "      <td>...</td>\n",
       "      <td>...</td>\n",
       "      <td>...</td>\n",
       "      <td>...</td>\n",
       "      <td>...</td>\n",
       "      <td>...</td>\n",
       "      <td>...</td>\n",
       "      <td>...</td>\n",
       "      <td>...</td>\n",
       "      <td>...</td>\n",
       "      <td>...</td>\n",
       "      <td>...</td>\n",
       "      <td>...</td>\n",
       "      <td>...</td>\n",
       "      <td>...</td>\n",
       "      <td>...</td>\n",
       "      <td>...</td>\n",
       "      <td>...</td>\n",
       "      <td>...</td>\n",
       "      <td>...</td>\n",
       "      <td>...</td>\n",
       "    </tr>\n",
       "    <tr>\n",
       "      <th>21541</th>\n",
       "      <td>OK</td>\n",
       "      <td>Copyright (c) 2020 The New York Times Company....</td>\n",
       "      <td>He vetoed a bill to let federal judges preside...</td>\n",
       "      <td>https://www.nytimes.com/2019/12/24/nyregion/cu...</td>\n",
       "      <td>He vetoed a bill to let federal judges preside...</td>\n",
       "      <td>ALBANY  Gov. Andrew M. Cuomos feud with Pres...</td>\n",
       "      <td>A</td>\n",
       "      <td>20</td>\n",
       "      <td>The New York Times</td>\n",
       "      <td>2019-12-24T20:03:44+0000</td>\n",
       "      <td>...</td>\n",
       "      <td>NaN</td>\n",
       "      <td>671</td>\n",
       "      <td>660.0</td>\n",
       "      <td>52.0</td>\n",
       "      <td>NaN</td>\n",
       "      <td>ALBANY Gov Andrew Cuomos feud President Trump...</td>\n",
       "      <td>{'neg': 0.124, 'neu': 0.876, 'pos': 0.0, 'comp...</td>\n",
       "      <td>-0.3400</td>\n",
       "      <td>0.124</td>\n",
       "      <td>0.000</td>\n",
       "    </tr>\n",
       "    <tr>\n",
       "      <th>21542</th>\n",
       "      <td>OK</td>\n",
       "      <td>Copyright (c) 2020 The New York Times Company....</td>\n",
       "      <td>In his traditional holiday benediction, Franci...</td>\n",
       "      <td>https://www.nytimes.com/2019/12/25/world/europ...</td>\n",
       "      <td>In his traditional holiday benediction, Franci...</td>\n",
       "      <td>ROME  As Christians around the world celebrat...</td>\n",
       "      <td>A</td>\n",
       "      <td>6</td>\n",
       "      <td>The New York Times</td>\n",
       "      <td>2019-12-25T13:34:43+0000</td>\n",
       "      <td>...</td>\n",
       "      <td>NaN</td>\n",
       "      <td>671</td>\n",
       "      <td>660.0</td>\n",
       "      <td>52.0</td>\n",
       "      <td>Europe</td>\n",
       "      <td>ROME Christians around world celebrated Christ...</td>\n",
       "      <td>{'neg': 0.23, 'neu': 0.622, 'pos': 0.148, 'com...</td>\n",
       "      <td>-0.5267</td>\n",
       "      <td>0.230</td>\n",
       "      <td>0.148</td>\n",
       "    </tr>\n",
       "    <tr>\n",
       "      <th>21543</th>\n",
       "      <td>OK</td>\n",
       "      <td>Copyright (c) 2020 The New York Times Company....</td>\n",
       "      <td>Hassan Fazilis autobiographical documentary p...</td>\n",
       "      <td>https://www.nytimes.com/2019/12/30/arts/televi...</td>\n",
       "      <td>Hassan Fazilis autobiographical documentary p...</td>\n",
       "      <td>POV: MIDNIGHT TRAVELER 10 p.m. on PBS (check l...</td>\n",
       "      <td>C</td>\n",
       "      <td>7</td>\n",
       "      <td>The New York Times</td>\n",
       "      <td>2019-12-30T06:00:09+0000</td>\n",
       "      <td>...</td>\n",
       "      <td>NaN</td>\n",
       "      <td>671</td>\n",
       "      <td>660.0</td>\n",
       "      <td>52.0</td>\n",
       "      <td>Television</td>\n",
       "      <td>POV MIDNIGHT TRAVELER PBS check local listings...</td>\n",
       "      <td>{'neg': 0.092, 'neu': 0.885, 'pos': 0.024, 'co...</td>\n",
       "      <td>-0.8074</td>\n",
       "      <td>0.092</td>\n",
       "      <td>0.024</td>\n",
       "    </tr>\n",
       "    <tr>\n",
       "      <th>21544</th>\n",
       "      <td>OK</td>\n",
       "      <td>Copyright (c) 2020 The New York Times Company....</td>\n",
       "      <td>Kenneth T. Cuccinelli II said the suspect in t...</td>\n",
       "      <td>https://www.nytimes.com/2019/12/30/us/politics...</td>\n",
       "      <td>Kenneth T. Cuccinelli II said the suspect in t...</td>\n",
       "      <td>Kenneth T. Cuccinelli II, a top immigration of...</td>\n",
       "      <td>A</td>\n",
       "      <td>16</td>\n",
       "      <td>The New York Times</td>\n",
       "      <td>2019-12-30T22:03:49+0000</td>\n",
       "      <td>...</td>\n",
       "      <td>NaN</td>\n",
       "      <td>671</td>\n",
       "      <td>660.0</td>\n",
       "      <td>52.0</td>\n",
       "      <td>Politics</td>\n",
       "      <td>Kenneth Cuccinelli top immigration official Tr...</td>\n",
       "      <td>{'neg': 0.072, 'neu': 0.782, 'pos': 0.147, 'co...</td>\n",
       "      <td>0.3182</td>\n",
       "      <td>0.072</td>\n",
       "      <td>0.147</td>\n",
       "    </tr>\n",
       "    <tr>\n",
       "      <th>21545</th>\n",
       "      <td>OK</td>\n",
       "      <td>Copyright (c) 2020 The New York Times Company....</td>\n",
       "      <td>A drop in immigration, fewer births and an agi...</td>\n",
       "      <td>https://www.nytimes.com/2019/12/30/us/usa-popu...</td>\n",
       "      <td>A drop in immigration, fewer births and an agi...</td>\n",
       "      <td>Population growth in the United States crept a...</td>\n",
       "      <td>A</td>\n",
       "      <td>11</td>\n",
       "      <td>The New York Times</td>\n",
       "      <td>2019-12-31T01:43:27+0000</td>\n",
       "      <td>...</td>\n",
       "      <td>NaN</td>\n",
       "      <td>671</td>\n",
       "      <td>660.0</td>\n",
       "      <td>52.0</td>\n",
       "      <td>NaN</td>\n",
       "      <td>Population growth United States crept along sl...</td>\n",
       "      <td>{'neg': 0.0, 'neu': 0.758, 'pos': 0.242, 'comp...</td>\n",
       "      <td>0.6908</td>\n",
       "      <td>0.000</td>\n",
       "      <td>0.242</td>\n",
       "    </tr>\n",
       "  </tbody>\n",
       "</table>\n",
       "<p>21457 rows × 35 columns</p>\n",
       "</div>"
      ],
      "text/plain": [
       "      status                                          copyright  \\\n",
       "1         OK  Copyright (c) 2020 The New York Times Company....   \n",
       "2         OK  Copyright (c) 2020 The New York Times Company....   \n",
       "3         OK  Copyright (c) 2020 The New York Times Company....   \n",
       "4         OK  Copyright (c) 2020 The New York Times Company....   \n",
       "5         OK  Copyright (c) 2020 The New York Times Company....   \n",
       "...      ...                                                ...   \n",
       "21541     OK  Copyright (c) 2020 The New York Times Company....   \n",
       "21542     OK  Copyright (c) 2020 The New York Times Company....   \n",
       "21543     OK  Copyright (c) 2020 The New York Times Company....   \n",
       "21544     OK  Copyright (c) 2020 The New York Times Company....   \n",
       "21545     OK  Copyright (c) 2020 The New York Times Company....   \n",
       "\n",
       "                                  response.docs.abstract  \\\n",
       "1        Federal officials said today that the Govern...   \n",
       "2        By Michael Wright and Caroline Rand Herron U...   \n",
       "3        With ''descents'' rising and ''ascents'' dec...   \n",
       "4        Bruce Feirstein is a writer living in New Yo...   \n",
       "5        The General Accounting Office says there app...   \n",
       "...                                                  ...   \n",
       "21541  He vetoed a bill to let federal judges preside...   \n",
       "21542  In his traditional holiday benediction, Franci...   \n",
       "21543  Hassan Fazilis autobiographical documentary p...   \n",
       "21544  Kenneth T. Cuccinelli II said the suspect in t...   \n",
       "21545  A drop in immigration, fewer births and an agi...   \n",
       "\n",
       "                                   response.docs.web_url  \\\n",
       "1      https://www.nytimes.com/1981/01/03/us/us-may-a...   \n",
       "2      https://www.nytimes.com/1981/01/04/weekinrevie...   \n",
       "3      https://www.nytimes.com/1981/01/04/weekinrevie...   \n",
       "4      https://www.nytimes.com/1981/01/04/magazine/th...   \n",
       "5      https://www.nytimes.com/1981/01/04/us/bogus-so...   \n",
       "...                                                  ...   \n",
       "21541  https://www.nytimes.com/2019/12/24/nyregion/cu...   \n",
       "21542  https://www.nytimes.com/2019/12/25/world/europ...   \n",
       "21543  https://www.nytimes.com/2019/12/30/arts/televi...   \n",
       "21544  https://www.nytimes.com/2019/12/30/us/politics...   \n",
       "21545  https://www.nytimes.com/2019/12/30/us/usa-popu...   \n",
       "\n",
       "                                   response.docs.snippet  \\\n",
       "1                                                    NaN   \n",
       "2                                                    NaN   \n",
       "3                                                    NaN   \n",
       "4                                                    NaN   \n",
       "5                                                    NaN   \n",
       "...                                                  ...   \n",
       "21541  He vetoed a bill to let federal judges preside...   \n",
       "21542  In his traditional holiday benediction, Franci...   \n",
       "21543  Hassan Fazilis autobiographical documentary p...   \n",
       "21544  Kenneth T. Cuccinelli II said the suspect in t...   \n",
       "21545  A drop in immigration, fewer births and an agi...   \n",
       "\n",
       "                            response.docs.lead_paragraph  \\\n",
       "1      Federal officials said today that the Governme...   \n",
       "2      By Michael Wright and Caroline Rand Herron Unt...   \n",
       "3      With ''descents'' rising and ''ascents'' decli...   \n",
       "4      Bruce Feirstein is a writer living in New York...   \n",
       "5      The General Accounting Office says there appea...   \n",
       "...                                                  ...   \n",
       "21541  ALBANY  Gov. Andrew M. Cuomos feud with Pres...   \n",
       "21542  ROME  As Christians around the world celebrat...   \n",
       "21543  POV: MIDNIGHT TRAVELER 10 p.m. on PBS (check l...   \n",
       "21544  Kenneth T. Cuccinelli II, a top immigration of...   \n",
       "21545  Population growth in the United States crept a...   \n",
       "\n",
       "      response.docs.print_section response.docs.print_page  \\\n",
       "1                               1                       10   \n",
       "2                               4                        2   \n",
       "3                               4                        4   \n",
       "4                               6                       26   \n",
       "5                               1                       20   \n",
       "...                           ...                      ...   \n",
       "21541                           A                       20   \n",
       "21542                           A                        6   \n",
       "21543                           C                        7   \n",
       "21544                           A                       16   \n",
       "21545                           A                       11   \n",
       "\n",
       "      response.docs.source    response.docs.pub_date  ...  \\\n",
       "1       The New York Times  1981-01-03T05:00:00+0000  ...   \n",
       "2       The New York Times  1981-01-04T05:00:00+0000  ...   \n",
       "3       The New York Times  1981-01-04T05:00:00+0000  ...   \n",
       "4       The New York Times  1981-01-04T05:00:00+0000  ...   \n",
       "5       The New York Times  1981-01-04T05:00:00+0000  ...   \n",
       "...                    ...                       ...  ...   \n",
       "21541   The New York Times  2019-12-24T20:03:44+0000  ...   \n",
       "21542   The New York Times  2019-12-25T13:34:43+0000  ...   \n",
       "21543   The New York Times  2019-12-30T06:00:09+0000  ...   \n",
       "21544   The New York Times  2019-12-30T22:03:49+0000  ...   \n",
       "21545   The New York Times  2019-12-31T01:43:27+0000  ...   \n",
       "\n",
       "      response.docs.byline.organization response.meta.hits  \\\n",
       "1                                   NaN                986   \n",
       "2                                   NaN                986   \n",
       "3                                   NaN                986   \n",
       "4                                   NaN                986   \n",
       "5                                   NaN                986   \n",
       "...                                 ...                ...   \n",
       "21541                               NaN                671   \n",
       "21542                               NaN                671   \n",
       "21543                               NaN                671   \n",
       "21544                               NaN                671   \n",
       "21545                               NaN                671   \n",
       "\n",
       "      response.meta.offset response.meta.time response.docs.subsection_name  \\\n",
       "1                      0.0              244.0                           NaN   \n",
       "2                      0.0              244.0                           NaN   \n",
       "3                      0.0              244.0                           NaN   \n",
       "4                      0.0              244.0                           NaN   \n",
       "5                      0.0              244.0                           NaN   \n",
       "...                    ...                ...                           ...   \n",
       "21541                660.0               52.0                           NaN   \n",
       "21542                660.0               52.0                        Europe   \n",
       "21543                660.0               52.0                    Television   \n",
       "21544                660.0               52.0                      Politics   \n",
       "21545                660.0               52.0                           NaN   \n",
       "\n",
       "                                               cleanText  \\\n",
       "1      Federal officials said today Government would ...   \n",
       "2      Michael Wright Caroline Rand Herron Until last...   \n",
       "3      With descents rising ascents declining record ...   \n",
       "4      Bruce Feirstein writer living New York CAPRICO...   \n",
       "5      The General Accounting Office says appears gro...   \n",
       "...                                                  ...   \n",
       "21541  ALBANY Gov Andrew Cuomos feud President Trump...   \n",
       "21542  ROME Christians around world celebrated Christ...   \n",
       "21543  POV MIDNIGHT TRAVELER PBS check local listings...   \n",
       "21544  Kenneth Cuccinelli top immigration official Tr...   \n",
       "21545  Population growth United States crept along sl...   \n",
       "\n",
       "                                  sentiment_scores_vader  \\\n",
       "1      {'neg': 0.177, 'neu': 0.823, 'pos': 0.0, 'comp...   \n",
       "2      {'neg': 0.089, 'neu': 0.831, 'pos': 0.08, 'com...   \n",
       "3      {'neg': 0.141, 'neu': 0.797, 'pos': 0.062, 'co...   \n",
       "4      {'neg': 0.072, 'neu': 0.771, 'pos': 0.157, 'co...   \n",
       "5      {'neg': 0.224, 'neu': 0.638, 'pos': 0.138, 'co...   \n",
       "...                                                  ...   \n",
       "21541  {'neg': 0.124, 'neu': 0.876, 'pos': 0.0, 'comp...   \n",
       "21542  {'neg': 0.23, 'neu': 0.622, 'pos': 0.148, 'com...   \n",
       "21543  {'neg': 0.092, 'neu': 0.885, 'pos': 0.024, 'co...   \n",
       "21544  {'neg': 0.072, 'neu': 0.782, 'pos': 0.147, 'co...   \n",
       "21545  {'neg': 0.0, 'neu': 0.758, 'pos': 0.242, 'comp...   \n",
       "\n",
       "      compound_scores_vader negative_scores_vader positive_scores_vader  \n",
       "1                   -0.7003                 0.177                 0.000  \n",
       "2                   -0.0772                 0.089                 0.080  \n",
       "3                   -0.4767                 0.141                 0.062  \n",
       "4                    0.8031                 0.072                 0.157  \n",
       "5                   -0.7334                 0.224                 0.138  \n",
       "...                     ...                   ...                   ...  \n",
       "21541               -0.3400                 0.124                 0.000  \n",
       "21542               -0.5267                 0.230                 0.148  \n",
       "21543               -0.8074                 0.092                 0.024  \n",
       "21544                0.3182                 0.072                 0.147  \n",
       "21545                0.6908                 0.000                 0.242  \n",
       "\n",
       "[21457 rows x 35 columns]"
      ]
     },
     "execution_count": 26,
     "metadata": {},
     "output_type": "execute_result"
    }
   ],
   "source": [
    "df"
   ]
  },
  {
   "cell_type": "markdown",
   "metadata": {},
   "source": [
    "# Training data with Textblob"
   ]
  },
  {
   "cell_type": "code",
   "execution_count": 28,
   "metadata": {},
   "outputs": [],
   "source": [
    "from textblob import TextBlob\n",
    "\n",
    "def sentiment_analyzer_scores_textblob(sentence):\n",
    "    scores = TextBlob(sentence).sentiment.polarity\n",
    "    #score = (\"{:-<40} {}\".format(sentence, str(string_words)))\n",
    "    return scores"
   ]
  },
  {
   "cell_type": "code",
   "execution_count": 29,
   "metadata": {},
   "outputs": [],
   "source": [
    "clean_text=list(df['cleanText'])\n",
    "\n",
    "sentiment_scores_texblob = []\n",
    "for i in range(len(clean_text)):\n",
    "    sentiment_scores_texblob.append(sentiment_analyzer_scores_textblob(clean_text[i]))"
   ]
  },
  {
   "cell_type": "code",
   "execution_count": 30,
   "metadata": {},
   "outputs": [],
   "source": [
    "df['sentiment_scores_textblob'] = sentiment_scores_texblob"
   ]
  },
  {
   "cell_type": "code",
   "execution_count": 31,
   "metadata": {},
   "outputs": [
    {
     "data": {
      "text/plain": [
       "array([[<matplotlib.axes._subplots.AxesSubplot object at 0x00000226FA350BC8>]],\n",
       "      dtype=object)"
      ]
     },
     "execution_count": 31,
     "metadata": {},
     "output_type": "execute_result"
    },
    {
     "data": {
      "image/png": "[encoded data removed]",
      "text/plain": [
       "<Figure size 432x288 with 1 Axes>"
      ]
     },
     "metadata": {
      "needs_background": "light"
     },
     "output_type": "display_data"
    }
   ],
   "source": [
    "df.hist(column = 'sentiment_scores_textblob')"
   ]
  },
  {
   "cell_type": "markdown",
   "metadata": {},
   "source": [
    "# Summary Stats about sentiment on Vader dicctionary and Textblob"
   ]
  },
  {
   "cell_type": "code",
   "execution_count": 32,
   "metadata": {},
   "outputs": [
    {
     "name": "stdout",
     "output_type": "stream",
     "text": [
      "1.0339\n"
     ]
    }
   ],
   "source": [
    "from scipy import stats \n",
    "  \n",
    "IQR_vader = stats.iqr(df['compound_scores_vader'], interpolation = 'midpoint') \n",
    "  \n",
    "print(IQR_vader)"
   ]
  },
  {
   "cell_type": "code",
   "execution_count": 33,
   "metadata": {},
   "outputs": [
    {
     "name": "stdout",
     "output_type": "stream",
     "text": [
      "0.16976190476190478\n"
     ]
    }
   ],
   "source": [
    "\n",
    "IQR_textblob = stats.iqr(df['sentiment_scores_textblob'], interpolation = 'midpoint') \n",
    "  \n",
    "print(IQR_textblob)"
   ]
  },
  {
   "cell_type": "code",
   "execution_count": 34,
   "metadata": {},
   "outputs": [
    {
     "data": {
      "image/png": "[encoded data removed]",
      "text/plain": [
       "<Figure size 432x288 with 1 Axes>"
      ]
     },
     "metadata": {
      "needs_background": "light"
     },
     "output_type": "display_data"
    }
   ],
   "source": [
    "boxplot = df.boxplot(column=['compound_scores_vader', 'sentiment_scores_textblob'])"
   ]
  },
  {
   "cell_type": "code",
   "execution_count": 1,
   "metadata": {},
   "outputs": [],
   "source": [
    "\n",
    "# sns.distplot(df['compound_scores_vader'],  kde=False, label='Vader')\n",
    "\n",
    "# #df =gapminder[gapminder.continent == 'Americas']\n",
    "# sns.distplot(df['sentiment_scores_textblob'],  kde=False,label='Textblob')\n",
    "\n",
    "\n",
    "# # Plot formatting\n",
    "# plt.legend(prop={'size': 12})\n",
    "# plt.title('Compound Scores Distribution VADER VS Textblob')\n",
    "# plt.xlabel('Sentiment Score')\n",
    "# plt.ylabel('Number of Articles')"
   ]
  },
  {
   "cell_type": "markdown",
   "metadata": {},
   "source": [
    "Distriutions of words in the neutral, positive and negative sphere"
   ]
  },
  {
   "cell_type": "code",
   "execution_count": 96,
   "metadata": {},
   "outputs": [
    {
     "data": {
      "text/plain": [
       "Text(0, 0.5, 'Frequencies of words')"
      ]
     },
     "execution_count": 96,
     "metadata": {},
     "output_type": "execute_result"
    },
    {
     "data": {
      "image/png": "[encoded data removed]",
      "text/plain": [
       "<Figure size 432x288 with 1 Axes>"
      ]
     },
     "metadata": {
      "needs_background": "light"
     },
     "output_type": "display_data"
    }
   ],
   "source": [
    "import matplotlib.pyplot as plt\n",
    "\n",
    "plt.plot(df_positive_words['Frequency'][0:500], label = 'Negative Words', ls='--')\n",
    "plt.plot(df_negative_words['Frequency'][0:500], label = 'Positive Words', )\n",
    "plt.plot(df_neutral_words['Frequency'][0:500],label = 'Neutral Words', ls=':')\n",
    "\n",
    "plt.legend(prop={'size': 12})\n",
    "plt.title('Frequencies of words in Corpus')\n",
    "plt.xlabel('Ranking of Frequency')\n",
    "plt.ylabel('Frequencies of words')"
   ]
  },
  {
   "cell_type": "markdown",
   "metadata": {},
   "source": [
    "# using TF-IDF to identify problematic n-grams and keywords"
   ]
  },
  {
   "cell_type": "markdown",
   "metadata": {},
   "source": [
    "Proper Noun Understanding and word relocation for the first 200 words in negative, 200 words in positive 300 words in neutral"
   ]
  },
  {
   "cell_type": "markdown",
   "metadata": {},
   "source": [
    "TF (Term Frequency) measures the frequency of a word in a document.\n",
    "\n",
    "TF = (Number of time the word occurs in the text) / (Total number of words in text)\n",
    "\n",
    "IDF (Inverse Document Frequency) measures the rank of the specific word for its relevancy within the text. Stop words which contain unnecessary information such as “a”, “into” and “and” carry less importance in spite of their occurrence.\n",
    "\n",
    "IDF = (Total number of documents / Number of documents with word t in it)\n",
    "\n",
    "Thus, the TF-IDF is the product of TF and IDF:\n",
    "\n",
    "TF-IDF = TF * IDF\n",
    "\n",
    "https://iyzico.engineering/how-to-calculate-tf-idf-term-frequency-inverse-document-frequency-from-the-beatles-biography-in-c4c3cd968296"
   ]
  },
  {
   "cell_type": "code",
   "execution_count": 36,
   "metadata": {},
   "outputs": [],
   "source": [
    "cvec = CountVectorizer( min_df=2, ngram_range=(2,4), lowercase = False)\n",
    "sf = cvec.fit_transform(df['cleanText'])"
   ]
  },
  {
   "cell_type": "code",
   "execution_count": 38,
   "metadata": {},
   "outputs": [],
   "source": [
    "transformer = TfidfTransformer()\n",
    "transformed_weights = transformer.fit_transform(sf)\n",
    "weights = np.asarray(transformed_weights.mean(axis=0)).ravel().tolist()\n",
    "weights_df = pd.DataFrame({'Word': cvec.get_feature_names(), 'weight': weights})"
   ]
  },
  {
   "cell_type": "code",
   "execution_count": 39,
   "metadata": {},
   "outputs": [],
   "source": [
    "n_gram_df=weights_df.sort_values(by='weight', ascending=False)"
   ]
  },
  {
   "cell_type": "code",
   "execution_count": 41,
   "metadata": {},
   "outputs": [
    {
     "data": {
      "text/html": [
       "<div>\n",
       "<style scoped>\n",
       "    .dataframe tbody tr th:only-of-type {\n",
       "        vertical-align: middle;\n",
       "    }\n",
       "\n",
       "    .dataframe tbody tr th {\n",
       "        vertical-align: top;\n",
       "    }\n",
       "\n",
       "    .dataframe thead th {\n",
       "        text-align: right;\n",
       "    }\n",
       "</style>\n",
       "<table border=\"1\" class=\"dataframe\">\n",
       "  <thead>\n",
       "    <tr style=\"text-align: right;\">\n",
       "      <th></th>\n",
       "      <th>Word</th>\n",
       "      <th>weight</th>\n",
       "    </tr>\n",
       "  </thead>\n",
       "  <tbody>\n",
       "    <tr>\n",
       "      <th>42987</th>\n",
       "      <td>United States</td>\n",
       "      <td>0.011623</td>\n",
       "    </tr>\n",
       "    <tr>\n",
       "      <th>42833</th>\n",
       "      <td>United Nations</td>\n",
       "      <td>0.004245</td>\n",
       "    </tr>\n",
       "    <tr>\n",
       "      <th>39230</th>\n",
       "      <td>The United</td>\n",
       "      <td>0.001555</td>\n",
       "    </tr>\n",
       "    <tr>\n",
       "      <th>53775</th>\n",
       "      <td>asylum United</td>\n",
       "      <td>0.001238</td>\n",
       "    </tr>\n",
       "    <tr>\n",
       "      <th>53776</th>\n",
       "      <td>asylum United States</td>\n",
       "      <td>0.001238</td>\n",
       "    </tr>\n",
       "    <tr>\n",
       "      <th>...</th>\n",
       "      <td>...</td>\n",
       "      <td>...</td>\n",
       "    </tr>\n",
       "    <tr>\n",
       "      <th>58997</th>\n",
       "      <td>brought alliance United States</td>\n",
       "      <td>0.000001</td>\n",
       "    </tr>\n",
       "    <tr>\n",
       "      <th>152694</th>\n",
       "      <td>war United States</td>\n",
       "      <td>0.000001</td>\n",
       "    </tr>\n",
       "    <tr>\n",
       "      <th>152693</th>\n",
       "      <td>war United</td>\n",
       "      <td>0.000001</td>\n",
       "    </tr>\n",
       "    <tr>\n",
       "      <th>141792</th>\n",
       "      <td>strikes within United</td>\n",
       "      <td>0.000001</td>\n",
       "    </tr>\n",
       "    <tr>\n",
       "      <th>141793</th>\n",
       "      <td>strikes within United States</td>\n",
       "      <td>0.000001</td>\n",
       "    </tr>\n",
       "  </tbody>\n",
       "</table>\n",
       "<p>3213 rows × 2 columns</p>\n",
       "</div>"
      ],
      "text/plain": [
       "                                  Word    weight\n",
       "42987                    United States  0.011623\n",
       "42833                   United Nations  0.004245\n",
       "39230                       The United  0.001555\n",
       "53775                    asylum United  0.001238\n",
       "53776             asylum United States  0.001238\n",
       "...                                ...       ...\n",
       "58997   brought alliance United States  0.000001\n",
       "152694               war United States  0.000001\n",
       "152693                      war United  0.000001\n",
       "141792           strikes within United  0.000001\n",
       "141793    strikes within United States  0.000001\n",
       "\n",
       "[3213 rows x 2 columns]"
      ]
     },
     "execution_count": 41,
     "metadata": {},
     "output_type": "execute_result"
    }
   ],
   "source": [
    "n_gram_df[n_gram_df['Word'].str.contains((r'(?:\\s|^|Ei:|EI:|EI-)'+'United'+r'(?:\\s|$)'), case=True)]"
   ]
  },
  {
   "cell_type": "markdown",
   "metadata": {},
   "source": [
    "After analysis excel TIDF analysis"
   ]
  },
  {
   "cell_type": "code",
   "execution_count": null,
   "metadata": {},
   "outputs": [],
   "source": [
    "n_grams_to_remove=[\"United States\", \"Supreme Court\", \"Homeland Security\", \n",
    "                   \"Social Security\", \"Justice Department\", \"Great Depression\",\n",
    "                  \"United Nations\", \"Statue of liberty\", \"Central Intelligence\", \"Lower East\", \n",
    "                  \"Star Wars\", \"New York\"]"
   ]
  },
  {
   "cell_type": "code",
   "execution_count": null,
   "metadata": {},
   "outputs": [],
   "source": [
    "Problematic words = [\"United States\", \"Supreme Court\", \"Homeland Security\", \n",
    "                   \"Social Security\", \"Justice Department\", \"Great Depression\",\n",
    "                  \"United Nations\", \"Statue of liberty\", \"Central Intelligence\", \"Lower East\", \n",
    "                  \"Star Wars\", \"New York\"]"
   ]
  }
 ],
 "metadata": {
  "kernelspec": {
   "display_name": "Python 3",
   "language": "python",
   "name": "python3"
  },
  "language_info": {
   "codemirror_mode": {
    "name": "ipython",
    "version": 3
   },
   "file_extension": ".py",
   "mimetype": "text/x-python",
   "name": "python",
   "nbconvert_exporter": "python",
   "pygments_lexer": "ipython3",
   "version": "3.7.6"
  }
 },
 "nbformat": 4,
 "nbformat_minor": 4
}
