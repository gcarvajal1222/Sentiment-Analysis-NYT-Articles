{
 "cells": [
  {
   "cell_type": "code",
   "execution_count": 183,
   "metadata": {},
   "outputs": [],
   "source": [
    "import pandas as pd\n",
    "import time\n",
    "from IPython.display import clear_output, display"
   ]
  },
  {
   "cell_type": "code",
   "execution_count": 4,
   "metadata": {},
   "outputs": [],
   "source": [
    "key = \"PRIVATE KEY\"\n",
    "endpoint = \"ENDPOINT\""
   ]
  },
  {
   "cell_type": "code",
   "execution_count": 5,
   "metadata": {},
   "outputs": [],
   "source": [
    "from azure.ai.textanalytics import TextAnalyticsClient\n",
    "from azure.core.credentials import AzureKeyCredential\n",
    "\n",
    "def authenticate_client():\n",
    "    ta_credential = AzureKeyCredential(key)\n",
    "    text_analytics_client = TextAnalyticsClient(\n",
    "            endpoint=endpoint, credential=ta_credential)\n",
    "    return text_analytics_client\n",
    "\n",
    "client = authenticate_client()"
   ]
  },
  {
   "cell_type": "code",
   "execution_count": 13,
   "metadata": {},
   "outputs": [],
   "source": [
    "# def sentiment_analysis_example(client):\n",
    "\n",
    "#     documents = [\"immigrants were killed,Immigrants face tremendous problems in the south.\"]\n",
    "#     response = client.analyze_sentiment(documents = documents)[0]\n",
    "#     print(\"Document Sentiment: {}\".format(response.sentiment))\n",
    "#     print(\"Overall scores: positive={0:.2f}; neutral={1:.2f}; negative={2:.2f} \\n\".format(\n",
    "#         response.confidence_scores.positive,\n",
    "#         response.confidence_scores.neutral,\n",
    "#         response.confidence_scores.negative,\n",
    "#     ))\n",
    "#     for idx, sentence in enumerate(response.sentences):\n",
    "#         print(\"Sentence: {}\".format(sentence.text))\n",
    "#         print(\"Sentence {} sentiment: {}\".format(idx+1, sentence.sentiment))\n",
    "#         print(\"Sentence score:\\nPositive={0:.2f}\\nNeutral={1:.2f}\\nNegative={2:.2f}\\n\".format(\n",
    "#             sentence.confidence_scores.positive,\n",
    "#             sentence.confidence_scores.neutral,\n",
    "#             sentence.confidence_scores.negative,\n",
    "#         ))\n",
    "          \n",
    "# sentiment_analysis_example(client)"
   ]
  },
  {
   "cell_type": "code",
   "execution_count": 21,
   "metadata": {},
   "outputs": [],
   "source": [
    "series=pd.Series([\"I love today\", \"yesterday was terrible\"])"
   ]
  },
  {
   "cell_type": "code",
   "execution_count": 24,
   "metadata": {},
   "outputs": [
    {
     "data": {
      "text/plain": [
       "0              I love today\n",
       "1    yesterday was terrible\n",
       "dtype: object"
      ]
     },
     "execution_count": 24,
     "metadata": {},
     "output_type": "execute_result"
    }
   ],
   "source": [
    "series"
   ]
  },
  {
   "cell_type": "code",
   "execution_count": 25,
   "metadata": {},
   "outputs": [],
   "source": [
    "documents = [\"immigrants were killed,Immigrants face tremendous problems in the south.\"]\n",
    "response = client.analyze_sentiment(documents = list(series))"
   ]
  },
  {
   "cell_type": "code",
   "execution_count": 29,
   "metadata": {},
   "outputs": [
    {
     "data": {
      "text/plain": [
       "'positive'"
      ]
     },
     "execution_count": 29,
     "metadata": {},
     "output_type": "execute_result"
    }
   ],
   "source": [
    "response[0].sentiment"
   ]
  },
  {
   "cell_type": "code",
   "execution_count": 18,
   "metadata": {},
   "outputs": [],
   "source": [
    "df=pd.read_excel(\"C:\\\\Users\\\\wqlb\\\\Github\\\\Sentiment-Analysis-NYT-Articles\\\\5-Final Sentiment Output\\\\NYT_data_1980_to_2020_Retrained.xlsx\")"
   ]
  },
  {
   "cell_type": "code",
   "execution_count": 67,
   "metadata": {},
   "outputs": [],
   "source": [
    "clean_text=list(df['cleanText'])\n",
    "\n",
    "#sentiemnts_azure = client.analyze_sentiment(documents = clean_text)[0]\n",
    "\n",
    "# sentiment_scores = []\n",
    "# for i in range(len(clean_text)):\n",
    "#     sentiment_scores.append(sentiment_analyzer_scores(clean_text[i]))"
   ]
  },
  {
   "cell_type": "code",
   "execution_count": 89,
   "metadata": {},
   "outputs": [],
   "source": [
    "ct=list(df['cleanText'].iloc[0:9])\n",
    "\n",
    "sentiments_azure = client.analyze_sentiment(documents = ct)"
   ]
  },
  {
   "cell_type": "code",
   "execution_count": null,
   "metadata": {},
   "outputs": [],
   "source": [
    "azure_sentiment_analysis()\n",
    "\n",
    "#response = client.analyze_sentiment(ct[0:10])\n",
    "#successful_responses = [doc for doc in response if not doc.is_error]"
   ]
  },
  {
   "cell_type": "markdown",
   "metadata": {},
   "source": [
    "This function is the one that almost worked"
   ]
  },
  {
   "cell_type": "code",
   "execution_count": null,
   "metadata": {},
   "outputs": [
    {
     "name": "stdout",
     "output_type": "stream",
     "text": [
      "362\n"
     ]
    }
   ],
   "source": [
    "sentiments= []\n",
    "\n",
    "def sentiment_analysis(text):\n",
    "    response = client.analyze_sentiment(documents = text )\n",
    "    successful_responses = [doc for doc in response if not doc.is_error]\n",
    "    return successful_responses\n",
    "\n",
    "for i in range(0, len(ct), 10):\n",
    "    try:\n",
    "        sentiments.append(sentiment_analysis(ct[i:i+10]))\n",
    "    except:\n",
    "        sentiments.append(\"Error with this line\")\n",
    "    time.sleep(1)\n",
    "    \n",
    "    clear_output(wait=True)\n",
    "    print(len(sentiments))\n"
   ]
  },
  {
   "cell_type": "code",
   "execution_count": null,
   "metadata": {},
   "outputs": [],
   "source": [
    "sentiments"
   ]
  },
  {
   "cell_type": "code",
   "execution_count": 186,
   "metadata": {},
   "outputs": [],
   "source": [
    "for i in range(len(sentiments)):\n",
    "    sentiments_discrete_scores(sents[0][i].sentiment))"
   ]
  },
  {
   "cell_type": "code",
   "execution_count": null,
   "metadata": {},
   "outputs": [],
   "source": [
    "sentiments = []\n",
    "for i in range(0,9):\n",
    "    sentiments.append(client.analyze_sentiment(documents = ct[i]))"
   ]
  },
  {
   "cell_type": "code",
   "execution_count": 73,
   "metadata": {},
   "outputs": [],
   "source": [
    "list1 = ['its a great day', 'its a terrible day']"
   ]
  }
 ],
 "metadata": {
  "kernelspec": {
   "display_name": "Python 3",
   "language": "python",
   "name": "python3"
  },
  "language_info": {
   "codemirror_mode": {
    "name": "ipython",
    "version": 3
   },
   "file_extension": ".py",
   "mimetype": "text/x-python",
   "name": "python",
   "nbconvert_exporter": "python",
   "pygments_lexer": "ipython3",
   "version": "3.7.6"
  }
 },
 "nbformat": 4,
 "nbformat_minor": 4
}
