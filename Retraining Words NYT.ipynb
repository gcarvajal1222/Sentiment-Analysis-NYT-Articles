{
 "cells": [
  {
   "cell_type": "markdown",
   "metadata": {},
   "source": [
    "# Import modules"
   ]
  },
  {
   "cell_type": "code",
   "execution_count": 52,
   "metadata": {},
   "outputs": [
    {
     "name": "stderr",
     "output_type": "stream",
     "text": [
      "[nltk_data] Downloading package punkt to\n",
      "[nltk_data]     C:\\Users\\pdgac\\AppData\\Roaming\\nltk_data...\n",
      "[nltk_data]   Package punkt is already up-to-date!\n",
      "[nltk_data] Downloading package averaged_perceptron_tagger to\n",
      "[nltk_data]     C:\\Users\\pdgac\\AppData\\Roaming\\nltk_data...\n",
      "[nltk_data]   Package averaged_perceptron_tagger is already up-to-\n",
      "[nltk_data]       date!\n",
      "[nltk_data] Downloading package vader_lexicon to\n",
      "[nltk_data]     C:\\Users\\pdgac\\AppData\\Roaming\\nltk_data...\n",
      "[nltk_data]   Package vader_lexicon is already up-to-date!\n"
     ]
    },
    {
     "data": {
      "text/plain": [
       "True"
      ]
     },
     "execution_count": 52,
     "metadata": {},
     "output_type": "execute_result"
    }
   ],
   "source": [
    "import pandas as pd\n",
    "from nltk.tokenize import sent_tokenize, word_tokenize \n",
    "import warnings \n",
    "import nltk\n",
    "#from gensim.models import Word2Vec \n",
    "#from gensim.models.wrappers import FastText \n",
    "\n",
    "#from gensim.models import FastText\n",
    "\n",
    "\n",
    "\n",
    "from IPython.display import clear_output, display\n",
    "\n",
    "from nltk.tokenize import sent_tokenize, word_tokenize \n",
    "import warnings \n",
    "import nltk \n",
    "import pandas as pd\n",
    "from pandas import *\n",
    "import matplotlib.pyplot as plt\n",
    "import nltk\n",
    "from nltk.tokenize import RegexpTokenizer\n",
    "from nltk.stem import WordNetLemmatizer,PorterStemmer\n",
    "from nltk.corpus import stopwords\n",
    "import re\n",
    "lemmatizer = WordNetLemmatizer()\n",
    "stemmer = PorterStemmer() \n",
    "import re\n",
    "from sklearn.feature_extraction import text\n",
    "from builtins import input\n",
    "from statistics import mean\n",
    "from nltk import  pos_tag_sents\n",
    "\n",
    "\n",
    "from statistics import mode, StatisticsError\n",
    "\n",
    "import functools\n",
    "\n",
    "\n",
    "import re\n",
    "from sklearn.feature_extraction import text\n",
    "global cases\n",
    "\n",
    "from pandas import ExcelWriter\n",
    "import xlsxwriter\n",
    "\n",
    "import xlwt\n",
    "from xlwt.Workbook import *\n",
    "\n",
    "\n",
    "from nltk.corpus import wordnet\n",
    "\n",
    "from statistics import *\n",
    "\n",
    "from sklearn.feature_extraction.text import CountVectorizer\n",
    "from sklearn.feature_extraction.text import TfidfTransformer\n",
    "import numpy as np\n",
    "import pandas as pd\n",
    "import re\n",
    "from nltk import pos_tag\n",
    "from nltk.tokenize.treebank import TreebankWordDetokenizer\n",
    "import seaborn as sns\n",
    "\n",
    "nltk.download('punkt')\n",
    "nltk.download('averaged_perceptron_tagger')\n",
    "nltk.download('vader_lexicon')"
   ]
  },
  {
   "cell_type": "code",
   "execution_count": 7,
   "metadata": {},
   "outputs": [],
   "source": [
    "df_first_run = pd.read_excel(\"NYT_data_1980_to_2020_V2.xlsx\")"
   ]
  },
  {
   "cell_type": "markdown",
   "metadata": {},
   "source": [
    "# This is where we left off in the the NYT data output analysis"
   ]
  },
  {
   "cell_type": "code",
   "execution_count": 111,
   "metadata": {},
   "outputs": [
    {
     "data": {
      "text/plain": [
       "Text(0, 0.5, 'Number of Articles')"
      ]
     },
     "execution_count": 111,
     "metadata": {},
     "output_type": "execute_result"
    },
    {
     "data": {
      "image/png": "[encoded data removed]",
      "text/plain": [
       "<Figure size 432x288 with 1 Axes>"
      ]
     },
     "metadata": {
      "needs_background": "light"
     },
     "output_type": "display_data"
    }
   ],
   "source": [
    "\n",
    "sns.distplot(df_first_run['compound_scores_vader'],  kde=False, label='Vader')\n",
    "\n",
    "#df =gapminder[gapminder.continent == 'Americas']\n",
    "sns.distplot(df_first_run['sentiment_scores_textblob'],  kde=False,label='Textblob')\n",
    "\n",
    "\n",
    "# Plot formatting\n",
    "plt.legend(prop={'size': 12})\n",
    "plt.title('Compound Scores Distribution Vader VS Textblob')\n",
    "plt.xlabel('Sentiment Score')\n",
    "plt.ylabel('Number of Articles')"
   ]
  },
  {
   "cell_type": "code",
   "execution_count": 13,
   "metadata": {},
   "outputs": [],
   "source": [
    "df = pd.read_csv('Sentiment-Analysis-NYT-Articlesdir\\\\allNYTSearch1980to2020.txt', sep = \"\\t\", encoding = 'iso-8859-1')"
   ]
  },
  {
   "cell_type": "markdown",
   "metadata": {},
   "source": [
    "Getting rid off duplicate id's"
   ]
  },
  {
   "cell_type": "code",
   "execution_count": 14,
   "metadata": {},
   "outputs": [],
   "source": [
    "\n",
    "\n",
    "df.drop_duplicates(subset =\"response.docs._id\", \n",
    "                     keep = False, inplace = True) "
   ]
  },
  {
   "cell_type": "code",
   "execution_count": 15,
   "metadata": {},
   "outputs": [
    {
     "data": {
      "text/html": [
       "<div>\n",
       "<style scoped>\n",
       "    .dataframe tbody tr th:only-of-type {\n",
       "        vertical-align: middle;\n",
       "    }\n",
       "\n",
       "    .dataframe tbody tr th {\n",
       "        vertical-align: top;\n",
       "    }\n",
       "\n",
       "    .dataframe thead th {\n",
       "        text-align: right;\n",
       "    }\n",
       "</style>\n",
       "<table border=\"1\" class=\"dataframe\">\n",
       "  <thead>\n",
       "    <tr style=\"text-align: right;\">\n",
       "      <th></th>\n",
       "      <th>status</th>\n",
       "      <th>copyright</th>\n",
       "      <th>response.docs.abstract</th>\n",
       "      <th>response.docs.web_url</th>\n",
       "      <th>response.docs.snippet</th>\n",
       "      <th>response.docs.lead_paragraph</th>\n",
       "      <th>response.docs.print_section</th>\n",
       "      <th>response.docs.print_page</th>\n",
       "      <th>response.docs.source</th>\n",
       "      <th>response.docs.pub_date</th>\n",
       "      <th>...</th>\n",
       "      <th>response.docs.headline.print_headline</th>\n",
       "      <th>response.docs.headline.name</th>\n",
       "      <th>response.docs.headline.seo</th>\n",
       "      <th>response.docs.headline.sub</th>\n",
       "      <th>response.docs.byline.original</th>\n",
       "      <th>response.docs.byline.organization</th>\n",
       "      <th>response.meta.hits</th>\n",
       "      <th>response.meta.offset</th>\n",
       "      <th>response.meta.time</th>\n",
       "      <th>response.docs.subsection_name</th>\n",
       "    </tr>\n",
       "  </thead>\n",
       "  <tbody>\n",
       "    <tr>\n",
       "      <th>1</th>\n",
       "      <td>OK</td>\n",
       "      <td>Copyright (c) 2020 The New York Times Company....</td>\n",
       "      <td>Federal officials said today that the Govern...</td>\n",
       "      <td>https://www.nytimes.com/1981/01/03/us/us-may-a...</td>\n",
       "      <td>NaN</td>\n",
       "      <td>Federal officials said today that the Governme...</td>\n",
       "      <td>1</td>\n",
       "      <td>10</td>\n",
       "      <td>The New York Times</td>\n",
       "      <td>1981-01-03T05:00:00+0000</td>\n",
       "      <td>...</td>\n",
       "      <td>U.S. MAY APPEAL RULING FORBIDDING INDEFINITE D...</td>\n",
       "      <td>NaN</td>\n",
       "      <td>NaN</td>\n",
       "      <td>NaN</td>\n",
       "      <td>By Robert Pear, Special To the New York Times</td>\n",
       "      <td>NaN</td>\n",
       "      <td>986</td>\n",
       "      <td>0.0</td>\n",
       "      <td>244.0</td>\n",
       "      <td>NaN</td>\n",
       "    </tr>\n",
       "    <tr>\n",
       "      <th>2</th>\n",
       "      <td>OK</td>\n",
       "      <td>Copyright (c) 2020 The New York Times Company....</td>\n",
       "      <td>By Michael Wright and Caroline Rand Herron U...</td>\n",
       "      <td>https://www.nytimes.com/1981/01/04/weekinrevie...</td>\n",
       "      <td>NaN</td>\n",
       "      <td>By Michael Wright and Caroline Rand Herron Unt...</td>\n",
       "      <td>4</td>\n",
       "      <td>2</td>\n",
       "      <td>The New York Times</td>\n",
       "      <td>1981-01-04T05:00:00+0000</td>\n",
       "      <td>...</td>\n",
       "      <td>THE NATION; Demand for Action On Jailed Refugee</td>\n",
       "      <td>NaN</td>\n",
       "      <td>NaN</td>\n",
       "      <td>NaN</td>\n",
       "      <td>NaN</td>\n",
       "      <td>NaN</td>\n",
       "      <td>986</td>\n",
       "      <td>0.0</td>\n",
       "      <td>244.0</td>\n",
       "      <td>NaN</td>\n",
       "    </tr>\n",
       "    <tr>\n",
       "      <th>3</th>\n",
       "      <td>OK</td>\n",
       "      <td>Copyright (c) 2020 The New York Times Company....</td>\n",
       "      <td>With ''descents'' rising and ''ascents'' dec...</td>\n",
       "      <td>https://www.nytimes.com/1981/01/04/weekinrevie...</td>\n",
       "      <td>NaN</td>\n",
       "      <td>With ''descents'' rising and ''ascents'' decli...</td>\n",
       "      <td>4</td>\n",
       "      <td>4</td>\n",
       "      <td>The New York Times</td>\n",
       "      <td>1981-01-04T05:00:00+0000</td>\n",
       "      <td>...</td>\n",
       "      <td>ISRAELI EMIGRATION INSPIRES ANGER AND FEAR</td>\n",
       "      <td>NaN</td>\n",
       "      <td>NaN</td>\n",
       "      <td>NaN</td>\n",
       "      <td>By Henry Kamm</td>\n",
       "      <td>NaN</td>\n",
       "      <td>986</td>\n",
       "      <td>0.0</td>\n",
       "      <td>244.0</td>\n",
       "      <td>NaN</td>\n",
       "    </tr>\n",
       "    <tr>\n",
       "      <th>4</th>\n",
       "      <td>OK</td>\n",
       "      <td>Copyright (c) 2020 The New York Times Company....</td>\n",
       "      <td>Bruce Feirstein is a writer living in New Yo...</td>\n",
       "      <td>https://www.nytimes.com/1981/01/04/magazine/th...</td>\n",
       "      <td>NaN</td>\n",
       "      <td>Bruce Feirstein is a writer living in New York...</td>\n",
       "      <td>6</td>\n",
       "      <td>26</td>\n",
       "      <td>The New York Times</td>\n",
       "      <td>1981-01-04T05:00:00+0000</td>\n",
       "      <td>...</td>\n",
       "      <td>THE OLD STARGAZER'S ALMANAC FOR 1981</td>\n",
       "      <td>NaN</td>\n",
       "      <td>NaN</td>\n",
       "      <td>NaN</td>\n",
       "      <td>NaN</td>\n",
       "      <td>NaN</td>\n",
       "      <td>986</td>\n",
       "      <td>0.0</td>\n",
       "      <td>244.0</td>\n",
       "      <td>NaN</td>\n",
       "    </tr>\n",
       "    <tr>\n",
       "      <th>5</th>\n",
       "      <td>OK</td>\n",
       "      <td>Copyright (c) 2020 The New York Times Company....</td>\n",
       "      <td>The General Accounting Office says there app...</td>\n",
       "      <td>https://www.nytimes.com/1981/01/04/us/bogus-so...</td>\n",
       "      <td>NaN</td>\n",
       "      <td>The General Accounting Office says there appea...</td>\n",
       "      <td>1</td>\n",
       "      <td>20</td>\n",
       "      <td>The New York Times</td>\n",
       "      <td>1981-01-04T05:00:00+0000</td>\n",
       "      <td>...</td>\n",
       "      <td>BOGUS SOCIAL SECURITY CARDS FOUND INCREASING B...</td>\n",
       "      <td>NaN</td>\n",
       "      <td>NaN</td>\n",
       "      <td>NaN</td>\n",
       "      <td>By Robert Pear, Special To the New York Times</td>\n",
       "      <td>NaN</td>\n",
       "      <td>986</td>\n",
       "      <td>0.0</td>\n",
       "      <td>244.0</td>\n",
       "      <td>NaN</td>\n",
       "    </tr>\n",
       "    <tr>\n",
       "      <th>...</th>\n",
       "      <td>...</td>\n",
       "      <td>...</td>\n",
       "      <td>...</td>\n",
       "      <td>...</td>\n",
       "      <td>...</td>\n",
       "      <td>...</td>\n",
       "      <td>...</td>\n",
       "      <td>...</td>\n",
       "      <td>...</td>\n",
       "      <td>...</td>\n",
       "      <td>...</td>\n",
       "      <td>...</td>\n",
       "      <td>...</td>\n",
       "      <td>...</td>\n",
       "      <td>...</td>\n",
       "      <td>...</td>\n",
       "      <td>...</td>\n",
       "      <td>...</td>\n",
       "      <td>...</td>\n",
       "      <td>...</td>\n",
       "      <td>...</td>\n",
       "    </tr>\n",
       "    <tr>\n",
       "      <th>21541</th>\n",
       "      <td>OK</td>\n",
       "      <td>Copyright (c) 2020 The New York Times Company....</td>\n",
       "      <td>He vetoed a bill to let federal judges preside...</td>\n",
       "      <td>https://www.nytimes.com/2019/12/24/nyregion/cu...</td>\n",
       "      <td>He vetoed a bill to let federal judges preside...</td>\n",
       "      <td>ALBANY  Gov. Andrew M. Cuomos feud with Pres...</td>\n",
       "      <td>A</td>\n",
       "      <td>20</td>\n",
       "      <td>The New York Times</td>\n",
       "      <td>2019-12-24T20:03:44+0000</td>\n",
       "      <td>...</td>\n",
       "      <td>Cuomo Blocks Trump-Picked Judges From Officiat...</td>\n",
       "      <td>NaN</td>\n",
       "      <td>NaN</td>\n",
       "      <td>NaN</td>\n",
       "      <td>By Jesse McKinley</td>\n",
       "      <td>NaN</td>\n",
       "      <td>671</td>\n",
       "      <td>660.0</td>\n",
       "      <td>52.0</td>\n",
       "      <td>NaN</td>\n",
       "    </tr>\n",
       "    <tr>\n",
       "      <th>21542</th>\n",
       "      <td>OK</td>\n",
       "      <td>Copyright (c) 2020 The New York Times Company....</td>\n",
       "      <td>In his traditional holiday benediction, Franci...</td>\n",
       "      <td>https://www.nytimes.com/2019/12/25/world/europ...</td>\n",
       "      <td>In his traditional holiday benediction, Franci...</td>\n",
       "      <td>ROME  As Christians around the world celebrat...</td>\n",
       "      <td>A</td>\n",
       "      <td>6</td>\n",
       "      <td>The New York Times</td>\n",
       "      <td>2019-12-25T13:34:43+0000</td>\n",
       "      <td>...</td>\n",
       "      <td>Pope Francis, in Christmas Speech, Urges Natio...</td>\n",
       "      <td>NaN</td>\n",
       "      <td>NaN</td>\n",
       "      <td>NaN</td>\n",
       "      <td>By Anna Momigliano and Elisabetta Povoledo</td>\n",
       "      <td>NaN</td>\n",
       "      <td>671</td>\n",
       "      <td>660.0</td>\n",
       "      <td>52.0</td>\n",
       "      <td>Europe</td>\n",
       "    </tr>\n",
       "    <tr>\n",
       "      <th>21543</th>\n",
       "      <td>OK</td>\n",
       "      <td>Copyright (c) 2020 The New York Times Company....</td>\n",
       "      <td>Hassan Fazilis autobiographical documentary p...</td>\n",
       "      <td>https://www.nytimes.com/2019/12/30/arts/televi...</td>\n",
       "      <td>Hassan Fazilis autobiographical documentary p...</td>\n",
       "      <td>POV: MIDNIGHT TRAVELER 10 p.m. on PBS (check l...</td>\n",
       "      <td>C</td>\n",
       "      <td>7</td>\n",
       "      <td>The New York Times</td>\n",
       "      <td>2019-12-30T06:00:09+0000</td>\n",
       "      <td>...</td>\n",
       "      <td>Whats On Monday</td>\n",
       "      <td>NaN</td>\n",
       "      <td>NaN</td>\n",
       "      <td>NaN</td>\n",
       "      <td>By Julia Carmel</td>\n",
       "      <td>NaN</td>\n",
       "      <td>671</td>\n",
       "      <td>660.0</td>\n",
       "      <td>52.0</td>\n",
       "      <td>Television</td>\n",
       "    </tr>\n",
       "    <tr>\n",
       "      <th>21544</th>\n",
       "      <td>OK</td>\n",
       "      <td>Copyright (c) 2020 The New York Times Company....</td>\n",
       "      <td>Kenneth T. Cuccinelli II said the suspect in t...</td>\n",
       "      <td>https://www.nytimes.com/2019/12/30/us/politics...</td>\n",
       "      <td>Kenneth T. Cuccinelli II said the suspect in t...</td>\n",
       "      <td>Kenneth T. Cuccinelli II, a top immigration of...</td>\n",
       "      <td>A</td>\n",
       "      <td>16</td>\n",
       "      <td>The New York Times</td>\n",
       "      <td>2019-12-30T22:03:49+0000</td>\n",
       "      <td>...</td>\n",
       "      <td>Immigration Official Tweets, and Deletes, Alle...</td>\n",
       "      <td>NaN</td>\n",
       "      <td>NaN</td>\n",
       "      <td>NaN</td>\n",
       "      <td>By Zolan Kanno-Youngs</td>\n",
       "      <td>NaN</td>\n",
       "      <td>671</td>\n",
       "      <td>660.0</td>\n",
       "      <td>52.0</td>\n",
       "      <td>Politics</td>\n",
       "    </tr>\n",
       "    <tr>\n",
       "      <th>21545</th>\n",
       "      <td>OK</td>\n",
       "      <td>Copyright (c) 2020 The New York Times Company....</td>\n",
       "      <td>A drop in immigration, fewer births and an agi...</td>\n",
       "      <td>https://www.nytimes.com/2019/12/30/us/usa-popu...</td>\n",
       "      <td>A drop in immigration, fewer births and an agi...</td>\n",
       "      <td>Population growth in the United States crept a...</td>\n",
       "      <td>A</td>\n",
       "      <td>11</td>\n",
       "      <td>The New York Times</td>\n",
       "      <td>2019-12-31T01:43:27+0000</td>\n",
       "      <td>...</td>\n",
       "      <td>Population of U.S. Grows At Slowest Pace in De...</td>\n",
       "      <td>NaN</td>\n",
       "      <td>NaN</td>\n",
       "      <td>NaN</td>\n",
       "      <td>By Neil Vigdor</td>\n",
       "      <td>NaN</td>\n",
       "      <td>671</td>\n",
       "      <td>660.0</td>\n",
       "      <td>52.0</td>\n",
       "      <td>NaN</td>\n",
       "    </tr>\n",
       "  </tbody>\n",
       "</table>\n",
       "<p>21457 rows × 30 columns</p>\n",
       "</div>"
      ],
      "text/plain": [
       "      status                                          copyright  \\\n",
       "1         OK  Copyright (c) 2020 The New York Times Company....   \n",
       "2         OK  Copyright (c) 2020 The New York Times Company....   \n",
       "3         OK  Copyright (c) 2020 The New York Times Company....   \n",
       "4         OK  Copyright (c) 2020 The New York Times Company....   \n",
       "5         OK  Copyright (c) 2020 The New York Times Company....   \n",
       "...      ...                                                ...   \n",
       "21541     OK  Copyright (c) 2020 The New York Times Company....   \n",
       "21542     OK  Copyright (c) 2020 The New York Times Company....   \n",
       "21543     OK  Copyright (c) 2020 The New York Times Company....   \n",
       "21544     OK  Copyright (c) 2020 The New York Times Company....   \n",
       "21545     OK  Copyright (c) 2020 The New York Times Company....   \n",
       "\n",
       "                                  response.docs.abstract  \\\n",
       "1        Federal officials said today that the Govern...   \n",
       "2        By Michael Wright and Caroline Rand Herron U...   \n",
       "3        With ''descents'' rising and ''ascents'' dec...   \n",
       "4        Bruce Feirstein is a writer living in New Yo...   \n",
       "5        The General Accounting Office says there app...   \n",
       "...                                                  ...   \n",
       "21541  He vetoed a bill to let federal judges preside...   \n",
       "21542  In his traditional holiday benediction, Franci...   \n",
       "21543  Hassan Fazilis autobiographical documentary p...   \n",
       "21544  Kenneth T. Cuccinelli II said the suspect in t...   \n",
       "21545  A drop in immigration, fewer births and an agi...   \n",
       "\n",
       "                                   response.docs.web_url  \\\n",
       "1      https://www.nytimes.com/1981/01/03/us/us-may-a...   \n",
       "2      https://www.nytimes.com/1981/01/04/weekinrevie...   \n",
       "3      https://www.nytimes.com/1981/01/04/weekinrevie...   \n",
       "4      https://www.nytimes.com/1981/01/04/magazine/th...   \n",
       "5      https://www.nytimes.com/1981/01/04/us/bogus-so...   \n",
       "...                                                  ...   \n",
       "21541  https://www.nytimes.com/2019/12/24/nyregion/cu...   \n",
       "21542  https://www.nytimes.com/2019/12/25/world/europ...   \n",
       "21543  https://www.nytimes.com/2019/12/30/arts/televi...   \n",
       "21544  https://www.nytimes.com/2019/12/30/us/politics...   \n",
       "21545  https://www.nytimes.com/2019/12/30/us/usa-popu...   \n",
       "\n",
       "                                   response.docs.snippet  \\\n",
       "1                                                    NaN   \n",
       "2                                                    NaN   \n",
       "3                                                    NaN   \n",
       "4                                                    NaN   \n",
       "5                                                    NaN   \n",
       "...                                                  ...   \n",
       "21541  He vetoed a bill to let federal judges preside...   \n",
       "21542  In his traditional holiday benediction, Franci...   \n",
       "21543  Hassan Fazilis autobiographical documentary p...   \n",
       "21544  Kenneth T. Cuccinelli II said the suspect in t...   \n",
       "21545  A drop in immigration, fewer births and an agi...   \n",
       "\n",
       "                            response.docs.lead_paragraph  \\\n",
       "1      Federal officials said today that the Governme...   \n",
       "2      By Michael Wright and Caroline Rand Herron Unt...   \n",
       "3      With ''descents'' rising and ''ascents'' decli...   \n",
       "4      Bruce Feirstein is a writer living in New York...   \n",
       "5      The General Accounting Office says there appea...   \n",
       "...                                                  ...   \n",
       "21541  ALBANY  Gov. Andrew M. Cuomos feud with Pres...   \n",
       "21542  ROME  As Christians around the world celebrat...   \n",
       "21543  POV: MIDNIGHT TRAVELER 10 p.m. on PBS (check l...   \n",
       "21544  Kenneth T. Cuccinelli II, a top immigration of...   \n",
       "21545  Population growth in the United States crept a...   \n",
       "\n",
       "      response.docs.print_section response.docs.print_page  \\\n",
       "1                               1                       10   \n",
       "2                               4                        2   \n",
       "3                               4                        4   \n",
       "4                               6                       26   \n",
       "5                               1                       20   \n",
       "...                           ...                      ...   \n",
       "21541                           A                       20   \n",
       "21542                           A                        6   \n",
       "21543                           C                        7   \n",
       "21544                           A                       16   \n",
       "21545                           A                       11   \n",
       "\n",
       "      response.docs.source    response.docs.pub_date  ...  \\\n",
       "1       The New York Times  1981-01-03T05:00:00+0000  ...   \n",
       "2       The New York Times  1981-01-04T05:00:00+0000  ...   \n",
       "3       The New York Times  1981-01-04T05:00:00+0000  ...   \n",
       "4       The New York Times  1981-01-04T05:00:00+0000  ...   \n",
       "5       The New York Times  1981-01-04T05:00:00+0000  ...   \n",
       "...                    ...                       ...  ...   \n",
       "21541   The New York Times  2019-12-24T20:03:44+0000  ...   \n",
       "21542   The New York Times  2019-12-25T13:34:43+0000  ...   \n",
       "21543   The New York Times  2019-12-30T06:00:09+0000  ...   \n",
       "21544   The New York Times  2019-12-30T22:03:49+0000  ...   \n",
       "21545   The New York Times  2019-12-31T01:43:27+0000  ...   \n",
       "\n",
       "                   response.docs.headline.print_headline  \\\n",
       "1      U.S. MAY APPEAL RULING FORBIDDING INDEFINITE D...   \n",
       "2        THE NATION; Demand for Action On Jailed Refugee   \n",
       "3             ISRAELI EMIGRATION INSPIRES ANGER AND FEAR   \n",
       "4                   THE OLD STARGAZER'S ALMANAC FOR 1981   \n",
       "5      BOGUS SOCIAL SECURITY CARDS FOUND INCREASING B...   \n",
       "...                                                  ...   \n",
       "21541  Cuomo Blocks Trump-Picked Judges From Officiat...   \n",
       "21542  Pope Francis, in Christmas Speech, Urges Natio...   \n",
       "21543                                   Whats On Monday   \n",
       "21544  Immigration Official Tweets, and Deletes, Alle...   \n",
       "21545  Population of U.S. Grows At Slowest Pace in De...   \n",
       "\n",
       "      response.docs.headline.name response.docs.headline.seo  \\\n",
       "1                             NaN                        NaN   \n",
       "2                             NaN                        NaN   \n",
       "3                             NaN                        NaN   \n",
       "4                             NaN                        NaN   \n",
       "5                             NaN                        NaN   \n",
       "...                           ...                        ...   \n",
       "21541                         NaN                        NaN   \n",
       "21542                         NaN                        NaN   \n",
       "21543                         NaN                        NaN   \n",
       "21544                         NaN                        NaN   \n",
       "21545                         NaN                        NaN   \n",
       "\n",
       "      response.docs.headline.sub  \\\n",
       "1                            NaN   \n",
       "2                            NaN   \n",
       "3                            NaN   \n",
       "4                            NaN   \n",
       "5                            NaN   \n",
       "...                          ...   \n",
       "21541                        NaN   \n",
       "21542                        NaN   \n",
       "21543                        NaN   \n",
       "21544                        NaN   \n",
       "21545                        NaN   \n",
       "\n",
       "                       response.docs.byline.original  \\\n",
       "1      By Robert Pear, Special To the New York Times   \n",
       "2                                                NaN   \n",
       "3                                      By Henry Kamm   \n",
       "4                                                NaN   \n",
       "5      By Robert Pear, Special To the New York Times   \n",
       "...                                              ...   \n",
       "21541                              By Jesse McKinley   \n",
       "21542     By Anna Momigliano and Elisabetta Povoledo   \n",
       "21543                                By Julia Carmel   \n",
       "21544                          By Zolan Kanno-Youngs   \n",
       "21545                                 By Neil Vigdor   \n",
       "\n",
       "      response.docs.byline.organization response.meta.hits  \\\n",
       "1                                   NaN                986   \n",
       "2                                   NaN                986   \n",
       "3                                   NaN                986   \n",
       "4                                   NaN                986   \n",
       "5                                   NaN                986   \n",
       "...                                 ...                ...   \n",
       "21541                               NaN                671   \n",
       "21542                               NaN                671   \n",
       "21543                               NaN                671   \n",
       "21544                               NaN                671   \n",
       "21545                               NaN                671   \n",
       "\n",
       "      response.meta.offset response.meta.time response.docs.subsection_name  \n",
       "1                      0.0              244.0                           NaN  \n",
       "2                      0.0              244.0                           NaN  \n",
       "3                      0.0              244.0                           NaN  \n",
       "4                      0.0              244.0                           NaN  \n",
       "5                      0.0              244.0                           NaN  \n",
       "...                    ...                ...                           ...  \n",
       "21541                660.0               52.0                           NaN  \n",
       "21542                660.0               52.0                        Europe  \n",
       "21543                660.0               52.0                    Television  \n",
       "21544                660.0               52.0                      Politics  \n",
       "21545                660.0               52.0                           NaN  \n",
       "\n",
       "[21457 rows x 30 columns]"
      ]
     },
     "execution_count": 15,
     "metadata": {},
     "output_type": "execute_result"
    }
   ],
   "source": [
    "df"
   ]
  },
  {
   "cell_type": "markdown",
   "metadata": {},
   "source": [
    "Preprocess with lowercasing words, we already extracted what we needed to know about the high frequency words"
   ]
  },
  {
   "cell_type": "code",
   "execution_count": 412,
   "metadata": {},
   "outputs": [],
   "source": [
    "def preprocess_regex(row):\n",
    "    row=str(row)\n",
    "    row = row.lower()\n",
    "    row=row.replace('-',\" \") \n",
    "    row=row.replace(',',\" \")\n",
    "    row=row.replace('.',\" \")\n",
    "    row=row.replace('+',\" \")\n",
    "    row=row.replace('\"',\" \")\n",
    "    row=row.replace(\"''\",\"\")\n",
    "    row=row.replace(\"'\",\"\")\n",
    "    row=row.replace(\":\",\"\")\n",
    "    row=row.replace(\"_\",\"\")\n",
    "    row = row.replace(\"/\",\"\")\n",
    "    cleanr = re.compile('<.*?>')  #this would replace 'random' in 'random words' but not in 'pseudorandom words'\n",
    "    cleantext = re.sub(cleanr, '', row)\n",
    "    line = re.sub('[!@#$]', '', cleantext)\n",
    "    rem_num = re.sub('[0-9]+', '', line)\n",
    "    #tokenizer = RegexpTokenizer(r'\\w+')  #this yields lower counts of words\n",
    "    tokens = nltk.tokenize.word_tokenize(rem_num)  \n",
    "    filtered_words = [w for w in tokens if len(w) > 2 if not w in stopwords.words('english')] #if it appears more than two times get rid off the stopwords, change this\n",
    "    return \" \".join(filtered_words)\n"
   ]
  },
  {
   "cell_type": "code",
   "execution_count": 413,
   "metadata": {},
   "outputs": [],
   "source": [
    "df['cleanText']=df['response.docs.lead_paragraph'].map(lambda s:preprocess_regex(s)) \n",
    "\n",
    "Tokenized_lead_paragraphs = df.apply(lambda row: nltk.word_tokenize(row['cleanText']), axis=1)"
   ]
  },
  {
   "cell_type": "markdown",
   "metadata": {},
   "source": [
    "# Retraining Senitment analysis with vader"
   ]
  },
  {
   "cell_type": "markdown",
   "metadata": {},
   "source": [
    "How to add words to dicctionary\n",
    "\n",
    "https://stackoverflow.com/questions/40481348/is-it-possible-to-edit-nltks-vader-sentiment-lexicon\n",
    "\n",
    "----------------------------------------------------------------------------------------------------------------------\n",
    "\n",
    "\n",
    "Where is the lexicon based dicctionary?\n",
    "\n",
    "https://github.com/cjhutto/vaderSentiment/blob/master/vaderSentiment/vader_lexicon.txt\n",
    "\n",
    "- Why do we replace \"n_gram _removal\"? Because we don't want to affect the removal of a word to the overall sentiment score. "
   ]
  },
  {
   "cell_type": "code",
   "execution_count": 417,
   "metadata": {},
   "outputs": [],
   "source": [
    "n_gram_stopwords = [\"united states\", \"supreme court\", \"homeland security\", \n",
    "                   \"social security\", \"justice department\", \"great depression\",\n",
    "                  \"united nations\", \"statue of liberty\", \"central intelligence\", \"lower east\", \n",
    "                  \"star wars\", \"new york\"]"
   ]
  },
  {
   "cell_type": "code",
   "execution_count": 418,
   "metadata": {},
   "outputs": [],
   "source": [
    "df['removed_n_gram_clean_text']=df['cleanText'].str.replace(\"|\".join(n_gram_stopwords), \"n_gram _removal\", regex = True)"
   ]
  },
  {
   "cell_type": "code",
   "execution_count": 419,
   "metadata": {},
   "outputs": [
    {
     "data": {
      "text/plain": [
       "1        federal officials said today government would ...\n",
       "2        michael wright caroline rand herron last week ...\n",
       "3        descents rising ascents declining record level...\n",
       "4        bruce feirstein writer living n_gram _removal ...\n",
       "5        general accounting office says appears growing...\n",
       "                               ...                        \n",
       "21541    albany gov andrew cuomos feud president trump...\n",
       "21542    rome christians around world celebrated christ...\n",
       "21543    pov midnight traveler pbs check local listings...\n",
       "21544    kenneth cuccinelli top immigration official tr...\n",
       "21545    population growth n_gram _removal crept along ...\n",
       "Name: removed_n_gram_clean_text, Length: 21457, dtype: object"
      ]
     },
     "execution_count": 419,
     "metadata": {},
     "output_type": "execute_result"
    }
   ],
   "source": [
    "df['removed_n_gram_clean_text'].apply(word_tokenize).apply(TreebankWordDetokenizer().detokenize)"
   ]
  },
  {
   "cell_type": "code",
   "execution_count": null,
   "metadata": {},
   "outputs": [],
   "source": []
  },
  {
   "cell_type": "code",
   "execution_count": 332,
   "metadata": {},
   "outputs": [],
   "source": [
    "from nltk.sentiment.vader import SentimentIntensityAnalyzer\n",
    "SIA = SentimentIntensityAnalyzer()\n",
    "\n"
   ]
  },
  {
   "cell_type": "markdown",
   "metadata": {},
   "source": [
    "Declaring words for retraining"
   ]
  },
  {
   "cell_type": "code",
   "execution_count": 420,
   "metadata": {},
   "outputs": [],
   "source": [
    "list_words_positve_to_neutral = ['like', 'number', 'party', 'want', 'security', \n",
    "                                'thank', 'parties', 'significant', 'sure', 'playing', 'gain',\n",
    "                                 'plays', 'yes']\n",
    "list_words_negative_to_neutral = ['low', 'drop', 'lower']\n"
   ]
  },
  {
   "cell_type": "code",
   "execution_count": 421,
   "metadata": {},
   "outputs": [],
   "source": [
    "list_words_postive_to_negative = ['escape' ,'challenge', 'challenges','overwhelmed', 'urgent', 'challenging'] #escape\n"
   ]
  },
  {
   "cell_type": "code",
   "execution_count": 422,
   "metadata": {},
   "outputs": [],
   "source": [
    "list_words_neutral_to_positve = ['home', 'naturalization']\n",
    "\n",
    "list_words_neutral_to_negative = ['aliens', 'trump', 'deportation','alien', 'camps', 'seeking', 'undocumented', 'aid', 'officers', 'troops', 'illegally', 'enforcement', 'fled' ]"
   ]
  },
  {
   "cell_type": "markdown",
   "metadata": {},
   "source": [
    "Convert to neutral and adding vlaues"
   ]
  },
  {
   "cell_type": "code",
   "execution_count": 423,
   "metadata": {},
   "outputs": [],
   "source": [
    "value_neutral=0.0\n",
    "\n",
    "new_positve_to_neutral= dict.fromkeys(list_words_positve_to_neutral, value_neutral)\n",
    "\n",
    "new_negative_to_neutral = dict.fromkeys(list_words_negative_to_neutral, value_neutral)\n"
   ]
  },
  {
   "cell_type": "markdown",
   "metadata": {},
   "source": [
    "Conver to posiitve and adding values"
   ]
  },
  {
   "cell_type": "code",
   "execution_count": 424,
   "metadata": {},
   "outputs": [],
   "source": [
    "positive_value = 1.5\n",
    "\n",
    "new_neutral_to_positive = dict.fromkeys(list_words_neutral_to_positve , positive_value)"
   ]
  },
  {
   "cell_type": "markdown",
   "metadata": {},
   "source": [
    "Conver to negative and adding values"
   ]
  },
  {
   "cell_type": "code",
   "execution_count": 425,
   "metadata": {},
   "outputs": [],
   "source": [
    "negative_value = -1.5\n",
    "\n",
    "new_posiitve_to_negative= dict.fromkeys(list_words_postive_to_negative, negative_value)\n",
    "\n",
    "new_neutral_to_negative = dict.fromkeys(list_words_neutral_to_negative, negative_value)"
   ]
  },
  {
   "cell_type": "code",
   "execution_count": 426,
   "metadata": {},
   "outputs": [
    {
     "data": {
      "text/plain": [
       "{'aliens': -1.5,\n",
       " 'trump': -1.5,\n",
       " 'deportation': -1.5,\n",
       " 'alien': -1.5,\n",
       " 'camps': -1.5,\n",
       " 'seeking': -1.5,\n",
       " 'undocumented': -1.5,\n",
       " 'aid': -1.5,\n",
       " 'officers': -1.5,\n",
       " 'troops': -1.5,\n",
       " 'illegally': -1.5,\n",
       " 'enforcement': -1.5,\n",
       " 'fled': -1.5}"
      ]
     },
     "execution_count": 426,
     "metadata": {},
     "output_type": "execute_result"
    }
   ],
   "source": [
    "new_neutral_to_negative"
   ]
  },
  {
   "cell_type": "markdown",
   "metadata": {},
   "source": [
    "Update dicctionary with new values"
   ]
  },
  {
   "cell_type": "code",
   "execution_count": 427,
   "metadata": {},
   "outputs": [],
   "source": [
    "SIA.lexicon.update(new_positve_to_neutral)"
   ]
  },
  {
   "cell_type": "code",
   "execution_count": 428,
   "metadata": {},
   "outputs": [],
   "source": [
    "SIA.lexicon.update(new_negative_to_neutral)"
   ]
  },
  {
   "cell_type": "code",
   "execution_count": 429,
   "metadata": {},
   "outputs": [],
   "source": [
    "SIA.lexicon.update(new_neutral_to_positive )"
   ]
  },
  {
   "cell_type": "code",
   "execution_count": 430,
   "metadata": {},
   "outputs": [],
   "source": [
    "SIA.lexicon.update(new_posiitve_to_negative)\n",
    "SIA.lexicon.update(new_neutral_to_negative)"
   ]
  },
  {
   "cell_type": "markdown",
   "metadata": {},
   "source": [
    "# checker for words after retraining them"
   ]
  },
  {
   "cell_type": "code",
   "execution_count": 432,
   "metadata": {},
   "outputs": [
    {
     "name": "stdout",
     "output_type": "stream",
     "text": [
      "trump -1.5\n"
     ]
    }
   ],
   "source": [
    "for key, value in SIA.lexicon.items() :\n",
    "    if key == 'trump':\n",
    "        \n",
    "        print (key, value)"
   ]
  },
  {
   "cell_type": "markdown",
   "metadata": {},
   "source": [
    "# Sentiment Analysis with  Retrained Vader"
   ]
  },
  {
   "cell_type": "code",
   "execution_count": 433,
   "metadata": {},
   "outputs": [],
   "source": [
    "def sentiment_analyzer_scores(sentence):\n",
    "    scores = SIA.polarity_scores(sentence)\n",
    "    return scores"
   ]
  },
  {
   "cell_type": "code",
   "execution_count": 434,
   "metadata": {},
   "outputs": [],
   "source": [
    "clean_text=list(df['removed_n_gram_clean_text'])\n",
    "\n",
    "sentiment_scores = []\n",
    "for i in range(len(clean_text)):\n",
    "    sentiment_scores.append(sentiment_analyzer_scores(clean_text[i]))"
   ]
  },
  {
   "cell_type": "code",
   "execution_count": 435,
   "metadata": {},
   "outputs": [],
   "source": [
    "df['sentiment_scores_vader'] = sentiment_scores"
   ]
  },
  {
   "cell_type": "code",
   "execution_count": 436,
   "metadata": {},
   "outputs": [],
   "source": [
    "compound_scores = []\n",
    "for i in range(len(sentiment_scores)):\n",
    "    compound_scores.append(sentiment_scores[i]['compound'])\n",
    "    \n",
    "neg_scores = []\n",
    "for i in range(len(sentiment_scores)):\n",
    "    neg_scores.append(sentiment_scores[i]['neg'])\n",
    "\n",
    "pos_scores = []\n",
    "for i in range(len(sentiment_scores)):\n",
    "    pos_scores.append(sentiment_scores[i]['pos'])\n"
   ]
  },
  {
   "cell_type": "code",
   "execution_count": 437,
   "metadata": {},
   "outputs": [],
   "source": [
    "df['compound_scores_vader'] = compound_scores\n",
    "\n",
    "df['negative_scores_vader'] = neg_scores\n",
    "\n",
    "df['positive_scores_vader'] = pos_scores"
   ]
  },
  {
   "cell_type": "code",
   "execution_count": 438,
   "metadata": {},
   "outputs": [],
   "source": [
    "#df.hist(column = 'compound_scores_vader')"
   ]
  },
  {
   "cell_type": "code",
   "execution_count": 439,
   "metadata": {},
   "outputs": [
    {
     "data": {
      "text/plain": [
       "array([[<matplotlib.axes._subplots.AxesSubplot object at 0x000001EB98CFAC88>]],\n",
       "      dtype=object)"
      ]
     },
     "execution_count": 439,
     "metadata": {},
     "output_type": "execute_result"
    },
    {
     "data": {
      "image/png": "[encoded data removed]",
      "text/plain": [
       "<Figure size 432x288 with 1 Axes>"
      ]
     },
     "metadata": {
      "needs_background": "light"
     },
     "output_type": "display_data"
    }
   ],
   "source": [
    " df.hist(column = 'compound_scores_vader')"
   ]
  },
  {
   "cell_type": "markdown",
   "metadata": {},
   "source": [
    "# How do the retrain of scores look before and after?"
   ]
  },
  {
   "cell_type": "markdown",
   "metadata": {},
   "source": [
    "- Becasue we manipulated certain words, we see a slight shift from positive to negative"
   ]
  },
  {
   "cell_type": "code",
   "execution_count": 440,
   "metadata": {},
   "outputs": [
    {
     "data": {
      "text/plain": [
       "Text(0, 0.5, 'Number of Articles')"
      ]
     },
     "execution_count": 440,
     "metadata": {},
     "output_type": "execute_result"
    },
    {
     "data": {
      "image/png": "[encoded data removed]",
      "text/plain": [
       "<Figure size 432x288 with 1 Axes>"
      ]
     },
     "metadata": {
      "needs_background": "light"
     },
     "output_type": "display_data"
    }
   ],
   "source": [
    "\n",
    "sns.distplot(df_first_run['compound_scores_vader'],  kde=False, label='Original Scores')\n",
    "\n",
    "#df =gapminder[gapminder.continent == 'Americas']\n",
    "sns.distplot(df['compound_scores_vader'],  kde=False,label='After Re-training')\n",
    "\n",
    "\n",
    "# Plot formatting\n",
    "plt.legend(prop={'size': 12})\n",
    "plt.title('Compound Scores Distribution by VADER')\n",
    "plt.xlabel('Sentiment Score')\n",
    "plt.ylabel('Number of Articles')"
   ]
  },
  {
   "cell_type": "markdown",
   "metadata": {},
   "source": [
    "# Look at individual retrained words in the sphere of Positive, Negative and Neutral"
   ]
  },
  {
   "cell_type": "code",
   "execution_count": 441,
   "metadata": {},
   "outputs": [],
   "source": [
    "#nltk.download('punkt')\n",
    "#nltk.download('vader_lexicon')"
   ]
  },
  {
   "cell_type": "code",
   "execution_count": 442,
   "metadata": {},
   "outputs": [],
   "source": [
    "import nltk\n",
    "from nltk.tokenize import word_tokenize, RegexpTokenizer\n",
    "\n",
    "\n",
    "def get_word_sentiment(text):\n",
    "    neg_word_list = []\n",
    "    pos_word_list = []\n",
    "    neu_word_list = []\n",
    "    \n",
    "    tokenized_text = nltk.word_tokenize(text)\n",
    "    \n",
    "    for word in tokenized_text:\n",
    "        if (SIA.polarity_scores(word)['compound']) >= 0.05:\n",
    "            pos_word_list.append(word)\n",
    "        elif (SIA.polarity_scores(word)['compound']) <= -0.05:\n",
    "            neg_word_list.append(word)\n",
    "        else:\n",
    "            neu_word_list.append(word)\n",
    "    return {'Positive':pos_word_list,'Neutral': neu_word_list,'Negative':neg_word_list}\n",
    "    #return pos_word_list,neu_word_list,neg_word_list\n"
   ]
  },
  {
   "cell_type": "code",
   "execution_count": 443,
   "metadata": {},
   "outputs": [],
   "source": [
    "lists_sentiment_P_N_N = []\n",
    "for i in range(len(df)):\n",
    "    lists_sentiment_P_N_N.append(get_word_sentiment(clean_text[i]))"
   ]
  },
  {
   "cell_type": "code",
   "execution_count": 444,
   "metadata": {},
   "outputs": [
    {
     "data": {
      "text/plain": [
       "21457"
      ]
     },
     "execution_count": 444,
     "metadata": {},
     "output_type": "execute_result"
    }
   ],
   "source": [
    "len(lists_sentiment_P_N_N)"
   ]
  },
  {
   "cell_type": "code",
   "execution_count": 504,
   "metadata": {},
   "outputs": [],
   "source": [
    "#lists_sentiment_P_N_N[0]"
   ]
  },
  {
   "cell_type": "markdown",
   "metadata": {},
   "source": [
    "Neutral words extraction by lexicion vader"
   ]
  },
  {
   "cell_type": "code",
   "execution_count": 446,
   "metadata": {},
   "outputs": [],
   "source": [
    "List_of_neutral_words_in_corpus = []\n",
    "for d in lists_sentiment_P_N_N:\n",
    "    List_of_neutral_words_in_corpus.append(d['Neutral'])\n",
    "    \n",
    "List_of_neutral_words_in_corpus\n",
    "\n",
    "flat_list_neutral_words = [item for sublist in List_of_neutral_words_in_corpus for item in sublist]\n",
    "\n",
    "\n",
    "word_dist = nltk.FreqDist(flat_list_neutral_words)\n",
    "top_N = len(word_dist)\n",
    "\n",
    "    #creating a dataframe of these words plus id so later we can merge.\n",
    "df_neutral_words= pd.DataFrame(word_dist.most_common(top_N),  #C_UW_F = category unique word final\n",
    "                    columns=['Word', 'Frequency'])\n",
    "\n",
    "\n"
   ]
  },
  {
   "cell_type": "code",
   "execution_count": 506,
   "metadata": {},
   "outputs": [
    {
     "data": {
      "text/plain": [
       "45629"
      ]
     },
     "execution_count": 506,
     "metadata": {},
     "output_type": "execute_result"
    }
   ],
   "source": [
    "len(df_neutral_words)"
   ]
  },
  {
   "cell_type": "code",
   "execution_count": 505,
   "metadata": {},
   "outputs": [],
   "source": [
    "#df_neutral_words"
   ]
  },
  {
   "cell_type": "markdown",
   "metadata": {},
   "source": [
    "Positve words extraction by lexicion vader"
   ]
  },
  {
   "cell_type": "code",
   "execution_count": 449,
   "metadata": {},
   "outputs": [],
   "source": [
    "\n",
    "List_of_positive_words_in_corpus = []\n",
    "for y in lists_sentiment_P_N_N:\n",
    "    List_of_positive_words_in_corpus.append(y['Positive'])\n",
    "\n",
    "flat_list_positive_words = [item for sublist in List_of_positive_words_in_corpus for item in sublist]\n",
    "\n",
    "\n",
    "word_dist = nltk.FreqDist(flat_list_positive_words)\n",
    "top_N = len(word_dist)\n",
    "\n",
    "    #creating a dataframe of these words plus id so later we can merge.\n",
    "df_positive_words= pd.DataFrame(word_dist.most_common(top_N),  #C_UW_F = category unique word final\n",
    "                    columns=['Word', 'Frequency'])"
   ]
  },
  {
   "cell_type": "code",
   "execution_count": 507,
   "metadata": {},
   "outputs": [],
   "source": [
    "#df_positive_words"
   ]
  },
  {
   "cell_type": "code",
   "execution_count": 451,
   "metadata": {},
   "outputs": [
    {
     "data": {
      "text/plain": [
       "1336"
      ]
     },
     "execution_count": 451,
     "metadata": {},
     "output_type": "execute_result"
    }
   ],
   "source": [
    "len(df_positive_words)"
   ]
  },
  {
   "cell_type": "code",
   "execution_count": 452,
   "metadata": {},
   "outputs": [],
   "source": [
    "List_of_negative_words_in_corpus = []\n",
    "for y in lists_sentiment_P_N_N:\n",
    "    List_of_negative_words_in_corpus.append(y['Negative'])\n",
    "\n",
    "flat_list_negative_words = [item for sublist in List_of_negative_words_in_corpus for item in sublist]\n",
    "\n",
    "\n",
    "word_dist = nltk.FreqDist(flat_list_negative_words)\n",
    "top_N = len(word_dist)\n",
    "\n",
    "    #creating a dataframe of these words plus id so later we can merge.\n",
    "df_negative_words= pd.DataFrame(word_dist.most_common(top_N),  #C_UW_F = category unique word final\n",
    "                    columns=['Word', 'Frequency'])"
   ]
  },
  {
   "cell_type": "code",
   "execution_count": 453,
   "metadata": {},
   "outputs": [
    {
     "data": {
      "text/plain": [
       "1766"
      ]
     },
     "execution_count": 453,
     "metadata": {},
     "output_type": "execute_result"
    }
   ],
   "source": [
    "len(df_negative_words)"
   ]
  },
  {
   "cell_type": "markdown",
   "metadata": {},
   "source": [
    "Adding a POS tag to the words in Neutral/ postive and negative words in vader"
   ]
  },
  {
   "cell_type": "code",
   "execution_count": 368,
   "metadata": {},
   "outputs": [],
   "source": [
    "# s_positive = df_positive_words['Word']\n",
    "# tagged_sent_pos = pos_tag(s_positive)  # or pos_tag(s.tolist())\n",
    "# tags_pos =  [ e[1] for e in tagged_sent_pos ]\n",
    "# df_positive_words['TAGS'] = tags_pos"
   ]
  },
  {
   "cell_type": "code",
   "execution_count": 369,
   "metadata": {},
   "outputs": [],
   "source": [
    "# s_neutral = df_neutral_words['Word']\n",
    "# tagged_sent_neutral = pos_tag(s_neutral)  # or pos_tag(s.tolist())\n",
    "# tags_neutral =  [ e[1] for e in tagged_sent_neutral ]\n",
    "# df_neutral_words['TAGS'] = tags_neutral"
   ]
  },
  {
   "cell_type": "code",
   "execution_count": 370,
   "metadata": {},
   "outputs": [],
   "source": [
    "# s_negative = df_negative_words['Word']\n",
    "# tagged_sent_negative = pos_tag(s_negative)  # or pos_tag(s.tolist())\n",
    "# tags_neg =  [ e[1] for e in tagged_sent_negative ]\n",
    "# df_negative_words['TAGS'] = tags_neg"
   ]
  },
  {
   "cell_type": "markdown",
   "metadata": {},
   "source": [
    "is at least one letter capitalized?"
   ]
  },
  {
   "cell_type": "code",
   "execution_count": 371,
   "metadata": {},
   "outputs": [],
   "source": [
    "# def at_least_one_char_upper(_list_of_words):\n",
    "#     at_least_one_upper = []\n",
    "#     for i in range(len(_list_of_words)):\n",
    "#         at_least_one_upper.append(any(l.isupper() for l in _list_of_words[i]))\n",
    "#     return at_least_one_upper\n",
    "    \n",
    "\n",
    "\n",
    "# df_neutral_words['Is a character in word capitalized?'] = at_least_one_char_upper(s_neutral)\n",
    "# df_positive_words['Is a character in word capitalized?'] = at_least_one_char_upper(s_positive)\n",
    "# df_negative_words['Is a character in word capitalized?'] = at_least_one_char_upper(s_negative)\n",
    "\n"
   ]
  },
  {
   "cell_type": "markdown",
   "metadata": {},
   "source": [
    "# Analysis of latino immigtation in USA corpus"
   ]
  },
  {
   "cell_type": "markdown",
   "metadata": {},
   "source": [
    "Which articles pertain to the United States?"
   ]
  },
  {
   "cell_type": "code",
   "execution_count": 456,
   "metadata": {},
   "outputs": [
    {
     "data": {
      "text/plain": [
       "array(['U.S.', 'Week in Review', 'Magazine', 'New York', 'World', 'Books',\n",
       "       'Home & Garden', 'Business Day', 'Arts', 'Archives', 'Style',\n",
       "       'Movies', 'Travel', 'Sports', 'Theater', 'Science', 'Real Estate',\n",
       "       'Education', 'Job Market', '405', 'Health', '895', '4114', '2186',\n",
       "       '1628', '215', '4706', '273', 'T Magazine', '401', '2197', '1866',\n",
       "       '1147', '1234', '3306', '979', '545', '516', '460', '1356', 'News',\n",
       "       '295', '1359', '294', 'Automobiles', 'Food', 'Technology',\n",
       "       'Giving', 'Opinion', 'Obituaries', 'Your Money', nan,\n",
       "       'Fashion & Style', 'Washington', 'The Learning Network', 'Blogs',\n",
       "       'nyt://article/cd9e29c6-26cc-52e8-b3a2-ff6bdacceac2',\n",
       "       'Corrections', 'Times Topics', 'Multimedia/Photos', 'UrbanEye',\n",
       "       'Great Homes & Destinations', 'Crosswords & Games', 'The Upshot',\n",
       "       'Times Insider', 'Podcasts', 'Climate', 'Reader Center', 'Lens',\n",
       "       'Well', 'Neediest Cases', 'The Weekly', 'Video'], dtype=object)"
      ]
     },
     "execution_count": 456,
     "metadata": {},
     "output_type": "execute_result"
    }
   ],
   "source": [
    "df['response.docs.section_name'].unique() #'Week in Review', 'Magazine' 'Business Day' \"education\" \"job market\" \"news\" \"blogs\", \"times topic\", \"upshot\", \"times insider\", 'Neediest Cases', 'The Weekly'"
   ]
  },
  {
   "cell_type": "code",
   "execution_count": 458,
   "metadata": {},
   "outputs": [],
   "source": [
    "#querys (United states, states, largest cities, )"
   ]
  },
  {
   "cell_type": "code",
   "execution_count": 459,
   "metadata": {},
   "outputs": [],
   "source": [
    "df['cleanText_lower']=df['cleanText'].str.lower()"
   ]
  },
  {
   "cell_type": "code",
   "execution_count": 460,
   "metadata": {},
   "outputs": [],
   "source": [
    "df_US=df[(df['response.docs.section_name'] ==\"U.S.\") | (df['response.docs.section_name'] == 'New York') | (df['response.docs.section_name'] == 'Washington')]"
   ]
  },
  {
   "cell_type": "code",
   "execution_count": 461,
   "metadata": {},
   "outputs": [
    {
     "name": "stdout",
     "output_type": "stream",
     "text": [
      "Amount of articles that refer to Immigration in the Scope of the US 9948\n"
     ]
    }
   ],
   "source": [
    "print(\"Amount of articles that refer to Immigration in the Scope of the US\", len(df_US))"
   ]
  },
  {
   "cell_type": "markdown",
   "metadata": {},
   "source": [
    "graphing representing immigration in the United States"
   ]
  },
  {
   "cell_type": "code",
   "execution_count": 462,
   "metadata": {},
   "outputs": [
    {
     "data": {
      "text/plain": [
       "Text(0, 0.5, 'Number of Articles')"
      ]
     },
     "execution_count": 462,
     "metadata": {},
     "output_type": "execute_result"
    },
    {
     "data": {
      "image/png": "[encoded data removed]",
      "text/plain": [
       "<Figure size 432x288 with 1 Axes>"
      ]
     },
     "metadata": {
      "needs_background": "light"
     },
     "output_type": "display_data"
    }
   ],
   "source": [
    "#df =gapminder[gapminder.continent == 'Americas']\n",
    "sns.distplot(df_US['compound_scores_vader'],  kde=False)\n",
    "\n",
    "\n",
    "# Plot formatting\n",
    "#plt.legend(prop={'size': 12})\n",
    "plt.title('Sentiment Distribution: Immigration in the USA')\n",
    "plt.xlabel('Sentiment Score')\n",
    "plt.ylabel('Number of Articles')\n",
    "\n",
    "\n"
   ]
  },
  {
   "cell_type": "markdown",
   "metadata": {},
   "source": [
    "# Latino Immigration in scope on USA "
   ]
  },
  {
   "cell_type": "code",
   "execution_count": 463,
   "metadata": {},
   "outputs": [],
   "source": [
    "df_US_Latino=df_US[df_US['cleanText_lower'].str.contains\n",
    "   ((r'(?:\\s|^|Ei:|EI:|EI-)'+'latino|latinos|latina|latinas|latinx|hispanic|hispanics|mexican|mexicans|central american|central amaericans|salvadoran|salvadoran|honduran|hondurans|guatemala|guatemalan|guatemalans|costa rica|costa rican|costa ricans|panamanian|panama|nicaraguan|nicaragua|colombian|venezuelan|ecuadorian|bolivian|brazilian|paraguayan|uruguayan|argentine|chilean|cuban|dominican|mexico|cuba|honduras|el salvador'\n",
    "     +r'(?:\\s|$)'), case=False)]"
   ]
  },
  {
   "cell_type": "code",
   "execution_count": 464,
   "metadata": {},
   "outputs": [
    {
     "name": "stdout",
     "output_type": "stream",
     "text": [
      "Amount of articles that refer to Latino Immigration in the Scope of the US 1689 out of 9948\n"
     ]
    }
   ],
   "source": [
    "print(\"Amount of articles that refer to Latino Immigration in the Scope of the US\", len(df_US_Latino), \"out of\", len(df_US))"
   ]
  },
  {
   "cell_type": "code",
   "execution_count": 514,
   "metadata": {},
   "outputs": [
    {
     "name": "stdout",
     "output_type": "stream",
     "text": [
      "percent of latino mentioned articles in the USA articles: 16.97828709288299 %\n"
     ]
    }
   ],
   "source": [
    "print(\"percent of latino mentioned articles in the USA articles:\", len(df_US_Latino)/ len(df_US) *100,\"%\")"
   ]
  },
  {
   "cell_type": "markdown",
   "metadata": {},
   "source": [
    "# Graph sentiment in latino immigration spherefor articles in the US"
   ]
  },
  {
   "cell_type": "code",
   "execution_count": 466,
   "metadata": {},
   "outputs": [
    {
     "name": "stderr",
     "output_type": "stream",
     "text": [
      "No handles with labels found to put in legend.\n"
     ]
    },
    {
     "data": {
      "text/plain": [
       "Text(0, 0.5, 'Number of Articles')"
      ]
     },
     "execution_count": 466,
     "metadata": {},
     "output_type": "execute_result"
    },
    {
     "data": {
      "image/png": "[encoded data removed]",
      "text/plain": [
       "<Figure size 432x288 with 1 Axes>"
      ]
     },
     "metadata": {
      "needs_background": "light"
     },
     "output_type": "display_data"
    }
   ],
   "source": [
    "sns.distplot(df_US_Latino['compound_scores_vader'],  kde=False)\n",
    "\n",
    "\n",
    "# Plot formatting\n",
    "plt.legend(prop={'size': 12})\n",
    "plt.title('Sentiment Distribution: Latino Immigration in the USA')\n",
    "plt.xlabel('Sentiment Score')\n",
    "plt.ylabel('Number of Articles')"
   ]
  },
  {
   "cell_type": "code",
   "execution_count": 467,
   "metadata": {},
   "outputs": [],
   "source": [
    "#df[df['cleanText_lower'].str.contains(\"latino|latina|latinx|hispanic|mexican|mexicans|central american|salvadoran|honduran|guatemalan|costa rican|panamanian|nicaraguan|colombian|venezuelan|ecuadorian|bolivian|brazilian|paraguayan|uruguayan|argentine|chilean|cuban|dominican|mexico|cuba|honduras|el salvador|mexicos\", na=False)]"
   ]
  },
  {
   "cell_type": "markdown",
   "metadata": {},
   "source": [
    "# Latino immigration in scope of ALL articles"
   ]
  },
  {
   "cell_type": "code",
   "execution_count": 468,
   "metadata": {},
   "outputs": [],
   "source": [
    "df_all_Latino=df[df['cleanText_lower'].str.contains\n",
    "   ((r'(?:\\s|^|Ei:|EI:|EI-)'+'latino|latina|latinx|hispanic|mexican|mexicans|central american|salvadoran|honduran|guatemalan|costa rican|panamanian|panama|nicaraguan|nicaragua|colombian|venezuelan|ecuadorian|bolivian|brazilian|paraguayan|uruguayan|argentine|chilean|cuban|dominican|mexico|cuba|honduras|el salvador|haitian'\n",
    "     +r'(?:\\s|$)'), case=False)]"
   ]
  },
  {
   "cell_type": "code",
   "execution_count": 469,
   "metadata": {},
   "outputs": [
    {
     "name": "stdout",
     "output_type": "stream",
     "text": [
      "Latino immigration articles out of ALL articles 2985 out of 21457\n"
     ]
    }
   ],
   "source": [
    "print(\"Latino immigration articles out of ALL articles\", len(df_all_Latino),\"out of\", len(df))"
   ]
  },
  {
   "cell_type": "code",
   "execution_count": 513,
   "metadata": {},
   "outputs": [
    {
     "name": "stdout",
     "output_type": "stream",
     "text": [
      " Percent Latino immigration articles out of ALL articles: 13.911544018269096 %\n"
     ]
    }
   ],
   "source": [
    "print(\" Percent Latino immigration articles out of ALL articles:\", len(df_all_Latino)/ len(df)*100, \"%\")"
   ]
  },
  {
   "cell_type": "markdown",
   "metadata": {},
   "source": [
    "# Graphing sentiment distribution for Latino Sphere on ALL articles"
   ]
  },
  {
   "cell_type": "code",
   "execution_count": 471,
   "metadata": {},
   "outputs": [
    {
     "data": {
      "text/plain": [
       "Text(0, 0.5, 'Number of Articles')"
      ]
     },
     "execution_count": 471,
     "metadata": {},
     "output_type": "execute_result"
    },
    {
     "data": {
      "image/png": "[encoded data removed]",
      "text/plain": [
       "<Figure size 432x288 with 1 Axes>"
      ]
     },
     "metadata": {
      "needs_background": "light"
     },
     "output_type": "display_data"
    }
   ],
   "source": [
    "#df =gapminder[gapminder.continent == 'Americas']\n",
    "sns.distplot(df_all_Latino['compound_scores_vader'],  kde=False)\n",
    "\n",
    "\n",
    "# Plot formatting\n",
    "#plt.legend(prop={'size': 12})\n",
    "plt.title('Sentiment Distribution: Latino Immigration all Articles')\n",
    "plt.xlabel('Sentiment Score')\n",
    "plt.ylabel('Number of Articles')"
   ]
  },
  {
   "cell_type": "markdown",
   "metadata": {},
   "source": [
    "# WHY do the two differ?"
   ]
  },
  {
   "cell_type": "code",
   "execution_count": 472,
   "metadata": {},
   "outputs": [
    {
     "name": "stdout",
     "output_type": "stream",
     "text": [
      "both          1666\n",
      "left_only     1319\n",
      "right_only      23\n",
      "Name: _merge, dtype: int64\n"
     ]
    }
   ],
   "source": [
    "merge_latino_df=pd.merge(df_all_Latino,df_US_Latino, on = 'response.docs._id', how='outer', indicator=True)\n",
    "\n",
    "\n",
    "\n",
    "print(merge_latino_df['_merge'].value_counts())\n",
    "\n",
    "latino_differnces=merge_latino_df[merge_latino_df['_merge'] == \"left_only\"]"
   ]
  },
  {
   "cell_type": "code",
   "execution_count": 473,
   "metadata": {},
   "outputs": [
    {
     "data": {
      "text/plain": [
       "World                   608\n",
       "New York                115\n",
       "Week in Review           98\n",
       "U.S.                     96\n",
       "Travel                   61\n",
       "Opinion                  50\n",
       "Business Day             49\n",
       "Arts                     44\n",
       "Magazine                 40\n",
       "Sports                   28\n",
       "Books                    20\n",
       "Style                    13\n",
       "Education                12\n",
       "Science                   8\n",
       "Real Estate               8\n",
       "Movies                    7\n",
       "T Magazine                6\n",
       "Health                    6\n",
       "Food                      5\n",
       "Multimedia/Photos         5\n",
       "The Upshot                5\n",
       "Theater                   5\n",
       "Technology                5\n",
       "Job Market                4\n",
       "Home & Garden             3\n",
       "Archives                  3\n",
       "The Learning Network      3\n",
       "Blogs                     3\n",
       "Automobiles               2\n",
       "Fashion & Style           2\n",
       "Lens                      1\n",
       "Video                     1\n",
       "Neediest Cases            1\n",
       "Climate                   1\n",
       "Times Insider             1\n",
       "Name: response.docs.section_name_x, dtype: int64"
      ]
     },
     "execution_count": 473,
     "metadata": {},
     "output_type": "execute_result"
    }
   ],
   "source": [
    "latino_differnces['response.docs.section_name_x'].value_counts()"
   ]
  },
  {
   "cell_type": "markdown",
   "metadata": {},
   "source": [
    "# Time Series Analysis "
   ]
  },
  {
   "cell_type": "code",
   "execution_count": 502,
   "metadata": {},
   "outputs": [],
   "source": [
    "#df_all_Latino['response.docs.pub_date']=df_all_Latino['response.docs.pub_date'].str[:10]\n",
    "\n",
    "#df_all_Latino['response.docs.pub_date'] = pd.to_datetime(df_all_Latino['response.docs.pub_date'])"
   ]
  },
  {
   "cell_type": "code",
   "execution_count": 475,
   "metadata": {},
   "outputs": [],
   "source": [
    "from datetime import date\n",
    "\n",
    "#Amount of articles that get covered \n",
    "\n",
    "# get counts of montly artiles throughout the years, sentiment step 2"
   ]
  },
  {
   "cell_type": "code",
   "execution_count": 481,
   "metadata": {},
   "outputs": [
    {
     "name": "stderr",
     "output_type": "stream",
     "text": [
      "C:\\Users\\pdgac\\Anaconda3\\lib\\site-packages\\ipykernel_launcher.py:1: SettingWithCopyWarning: \n",
      "A value is trying to be set on a copy of a slice from a DataFrame.\n",
      "Try using .loc[row_indexer,col_indexer] = value instead\n",
      "\n",
      "See the caveats in the documentation: https://pandas.pydata.org/pandas-docs/stable/user_guide/indexing.html#returning-a-view-versus-a-copy\n",
      "  \"\"\"Entry point for launching an IPython kernel.\n"
     ]
    }
   ],
   "source": [
    "df_all_Latino['year']=df_all_Latino['response.docs.pub_date'].dt.year"
   ]
  },
  {
   "cell_type": "code",
   "execution_count": 482,
   "metadata": {},
   "outputs": [
    {
     "name": "stderr",
     "output_type": "stream",
     "text": [
      "C:\\Users\\pdgac\\Anaconda3\\lib\\site-packages\\ipykernel_launcher.py:1: SettingWithCopyWarning: \n",
      "A value is trying to be set on a copy of a slice from a DataFrame.\n",
      "Try using .loc[row_indexer,col_indexer] = value instead\n",
      "\n",
      "See the caveats in the documentation: https://pandas.pydata.org/pandas-docs/stable/user_guide/indexing.html#returning-a-view-versus-a-copy\n",
      "  \"\"\"Entry point for launching an IPython kernel.\n"
     ]
    }
   ],
   "source": [
    "df_all_Latino['month'] = df_all_Latino['response.docs.pub_date'].dt.month"
   ]
  },
  {
   "cell_type": "markdown",
   "metadata": {},
   "source": [
    "# Average Sentiment Score by year normalization of vader ALL latino News"
   ]
  },
  {
   "cell_type": "markdown",
   "metadata": {},
   "source": [
    "How did I normalize it: https://stackoverflow.com/questions/26785354/normalizing-a-list-of-numbers-in-python\n",
    "\n",
    "Since we want to take the mean of sentiment scores we have to normalize the values of range -1 to 1 to 0-100 (in percent)"
   ]
  },
  {
   "cell_type": "code",
   "execution_count": 483,
   "metadata": {},
   "outputs": [
    {
     "name": "stderr",
     "output_type": "stream",
     "text": [
      "C:\\Users\\pdgac\\Anaconda3\\lib\\site-packages\\ipykernel_launcher.py:1: SettingWithCopyWarning: \n",
      "A value is trying to be set on a copy of a slice from a DataFrame.\n",
      "Try using .loc[row_indexer,col_indexer] = value instead\n",
      "\n",
      "See the caveats in the documentation: https://pandas.pydata.org/pandas-docs/stable/user_guide/indexing.html#returning-a-view-versus-a-copy\n",
      "  \"\"\"Entry point for launching an IPython kernel.\n"
     ]
    }
   ],
   "source": [
    "df_all_Latino['normalized_compound'] = [(float(i)-min(df_all_Latino['compound_scores_vader']))/(max(df_all_Latino['compound_scores_vader'])-min(df_all_Latino['compound_scores_vader'])) for i in df_all_Latino['compound_scores_vader']]"
   ]
  },
  {
   "cell_type": "code",
   "execution_count": 484,
   "metadata": {},
   "outputs": [
    {
     "data": {
      "text/plain": [
       "1        0.149745\n",
       "2        0.261578\n",
       "14       0.329949\n",
       "18       0.786036\n",
       "32       0.978994\n",
       "           ...   \n",
       "21502    0.636641\n",
       "21510    0.170051\n",
       "21514    0.244623\n",
       "21525    0.132340\n",
       "21540    0.039812\n",
       "Name: normalized_compound, Length: 2985, dtype: float64"
      ]
     },
     "execution_count": 484,
     "metadata": {},
     "output_type": "execute_result"
    }
   ],
   "source": [
    "df_all_Latino['normalized_compound']"
   ]
  },
  {
   "cell_type": "code",
   "execution_count": 485,
   "metadata": {},
   "outputs": [],
   "source": [
    "df_all_Latino = df_all_Latino .set_index(df_all_Latino['response.docs.pub_date'])"
   ]
  },
  {
   "cell_type": "code",
   "execution_count": 486,
   "metadata": {},
   "outputs": [
    {
     "data": {
      "image/png": "[encoded data removed]",
      "text/plain": [
       "<Figure size 432x288 with 1 Axes>"
      ]
     },
     "metadata": {
      "needs_background": "light"
     },
     "output_type": "display_data"
    }
   ],
   "source": [
    "mean_years= df_all_Latino['normalized_compound'].resample('1 y').mean()\n",
    "\n",
    "\n",
    "# Plot mean python/rstats by day\n",
    "plt.plot(mean_years.index.year, mean_years, color = 'green')\n",
    "\n",
    "plt.xlabel('Year')\n",
    "plt.ylabel('Normalized Sentiment Score')\n",
    "plt.title('Average Sentiment Scores Across Latino Immigration News')\n",
    "plt.show()"
   ]
  },
  {
   "cell_type": "markdown",
   "metadata": {},
   "source": [
    "# Average Sentiment Score Normalized US Latino news"
   ]
  },
  {
   "cell_type": "code",
   "execution_count": 487,
   "metadata": {},
   "outputs": [
    {
     "name": "stderr",
     "output_type": "stream",
     "text": [
      "C:\\Users\\pdgac\\Anaconda3\\lib\\site-packages\\ipykernel_launcher.py:1: SettingWithCopyWarning: \n",
      "A value is trying to be set on a copy of a slice from a DataFrame.\n",
      "Try using .loc[row_indexer,col_indexer] = value instead\n",
      "\n",
      "See the caveats in the documentation: https://pandas.pydata.org/pandas-docs/stable/user_guide/indexing.html#returning-a-view-versus-a-copy\n",
      "  \"\"\"Entry point for launching an IPython kernel.\n"
     ]
    }
   ],
   "source": [
    "df_US_Latino['normalized_compound'] = [(float(i)-min(df_US_Latino['compound_scores_vader']))/(max(df_US_Latino['compound_scores_vader'])-min(df_US_Latino['compound_scores_vader'])) for i in df_US_Latino['compound_scores_vader']]"
   ]
  },
  {
   "cell_type": "code",
   "execution_count": 497,
   "metadata": {},
   "outputs": [],
   "source": [
    "df_US_Latino['response.docs.pub_date'] = df_US_Latino['response.docs.pub_date'].str[:10]\n"
   ]
  },
  {
   "cell_type": "code",
   "execution_count": 498,
   "metadata": {},
   "outputs": [],
   "source": [
    "df_US_Latino['response.docs.pub_date'] = pd.to_datetime(df_US_Latino['response.docs.pub_date'])\n",
    "                                                "
   ]
  },
  {
   "cell_type": "code",
   "execution_count": 499,
   "metadata": {},
   "outputs": [],
   "source": [
    "df_US_Latino= df_US_Latino.set_index(df_US_Latino['response.docs.pub_date'])"
   ]
  },
  {
   "cell_type": "code",
   "execution_count": 501,
   "metadata": {},
   "outputs": [
    {
     "data": {
      "image/png": "[encoded data removed]",
      "text/plain": [
       "<Figure size 432x288 with 1 Axes>"
      ]
     },
     "metadata": {
      "needs_background": "light"
     },
     "output_type": "display_data"
    }
   ],
   "source": [
    "mean_years_us_latino= df_US_Latino['normalized_compound'].resample('1 y').mean()\n",
    "\n",
    "\n",
    "# Plot mean python/rstats by day\n",
    "plt.plot(mean_years_us_latino.index.year, mean_years_us_latino, color = 'red')\n",
    "\n",
    "plt.xlabel('Year')\n",
    "plt.ylabel('Normalized Sentiment Score')\n",
    "plt.title('Yerly Average Sentiment Scores Across Latino Immigration News in USA')\n",
    "plt.show()"
   ]
  },
  {
   "cell_type": "markdown",
   "metadata": {},
   "source": [
    "saving data that is cleaned and its removed of duplicates as well as adding words that are positive, negative and neutral by the lexicon vader"
   ]
  },
  {
   "cell_type": "code",
   "execution_count": 329,
   "metadata": {},
   "outputs": [],
   "source": [
    "# with pd.ExcelWriter('NYT_data_1980_to_2020_Retrained.xlsx') as writer:\n",
    "#     df.to_excel(writer, sheet_name = 'nyt_data', header = True )\n",
    "#     df_positive_words.to_excel(writer, sheet_name='positive_words_by_vader_retrained', header = True)\n",
    "#     df_negative_words.to_excel(writer, sheet_name='negative_words_by_vader_retrained', header = True)\n",
    "#     df_neutral_words.to_excel(writer, sheet_name= 'neutral_words_by_vader_retrained', header = True)"
   ]
  },
  {
   "cell_type": "code",
   "execution_count": null,
   "metadata": {},
   "outputs": [],
   "source": []
  }
 ],
 "metadata": {
  "kernelspec": {
   "display_name": "Python 3",
   "language": "python",
   "name": "python3"
  },
  "language_info": {
   "codemirror_mode": {
    "name": "ipython",
    "version": 3
   },
   "file_extension": ".py",
   "mimetype": "text/x-python",
   "name": "python",
   "nbconvert_exporter": "python",
   "pygments_lexer": "ipython3",
   "version": "3.7.6"
  }
 },
 "nbformat": 4,
 "nbformat_minor": 2
}
